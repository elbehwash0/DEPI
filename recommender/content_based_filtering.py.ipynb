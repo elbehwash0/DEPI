{
 "cells": [
  {
   "cell_type": "code",
   "id": "initial_id",
   "metadata": {
    "collapsed": true,
    "ExecuteTime": {
     "end_time": "2025-05-05T15:20:38.160292Z",
     "start_time": "2025-05-05T15:20:38.117035Z"
    }
   },
   "source": [
    "import pandas as pd\n",
    "\n",
    "books = pd.read_csv(r'../data/processed/books_cleaned.csv')\n",
    "\n",
    "books.drop(['Unnamed: 0'], axis=1, inplace=True)\n",
    "\n",
    "books.head()"
   ],
   "outputs": [
    {
     "data": {
      "text/plain": [
       "         ISBN                                         Book-Title  \\\n",
       "0  0399135782                             The Kitchen God's Wife   \n",
       "1  0440234743                                      The Testament   \n",
       "2  0452264464               Beloved (Plume Contemporary Fiction)   \n",
       "3  0609804618  Our Dumb Century: The Onion Presents 100 Years...   \n",
       "4  0971880107                                        Wild Animus   \n",
       "\n",
       "     Book-Author  Year-Of-Publication           Publisher  \\\n",
       "0        Amy Tan                 1991    Putnam Pub Group   \n",
       "1   John Grisham                 1999                Dell   \n",
       "2  Toni Morrison                 1994               Plume   \n",
       "3      The Onion                 1999  Three Rivers Press   \n",
       "4   Rich Shapero                 2004             Too Far   \n",
       "\n",
       "                                         Image-URL-S  \\\n",
       "0  http://images.amazon.com/images/P/0399135782.0...   \n",
       "1  http://images.amazon.com/images/P/0440234743.0...   \n",
       "2  http://images.amazon.com/images/P/0452264464.0...   \n",
       "3  http://images.amazon.com/images/P/0609804618.0...   \n",
       "4  http://images.amazon.com/images/P/0971880107.0...   \n",
       "\n",
       "                                         Image-URL-M  \\\n",
       "0  http://images.amazon.com/images/P/0399135782.0...   \n",
       "1  http://images.amazon.com/images/P/0440234743.0...   \n",
       "2  http://images.amazon.com/images/P/0452264464.0...   \n",
       "3  http://images.amazon.com/images/P/0609804618.0...   \n",
       "4  http://images.amazon.com/images/P/0971880107.0...   \n",
       "\n",
       "                                         Image-URL-L  \n",
       "0  http://images.amazon.com/images/P/0399135782.0...  \n",
       "1  http://images.amazon.com/images/P/0440234743.0...  \n",
       "2  http://images.amazon.com/images/P/0452264464.0...  \n",
       "3  http://images.amazon.com/images/P/0609804618.0...  \n",
       "4  http://images.amazon.com/images/P/0971880107.0...  "
      ],
      "text/html": [
       "<div>\n",
       "<style scoped>\n",
       "    .dataframe tbody tr th:only-of-type {\n",
       "        vertical-align: middle;\n",
       "    }\n",
       "\n",
       "    .dataframe tbody tr th {\n",
       "        vertical-align: top;\n",
       "    }\n",
       "\n",
       "    .dataframe thead th {\n",
       "        text-align: right;\n",
       "    }\n",
       "</style>\n",
       "<table border=\"1\" class=\"dataframe\">\n",
       "  <thead>\n",
       "    <tr style=\"text-align: right;\">\n",
       "      <th></th>\n",
       "      <th>ISBN</th>\n",
       "      <th>Book-Title</th>\n",
       "      <th>Book-Author</th>\n",
       "      <th>Year-Of-Publication</th>\n",
       "      <th>Publisher</th>\n",
       "      <th>Image-URL-S</th>\n",
       "      <th>Image-URL-M</th>\n",
       "      <th>Image-URL-L</th>\n",
       "    </tr>\n",
       "  </thead>\n",
       "  <tbody>\n",
       "    <tr>\n",
       "      <th>0</th>\n",
       "      <td>0399135782</td>\n",
       "      <td>The Kitchen God's Wife</td>\n",
       "      <td>Amy Tan</td>\n",
       "      <td>1991</td>\n",
       "      <td>Putnam Pub Group</td>\n",
       "      <td>http://images.amazon.com/images/P/0399135782.0...</td>\n",
       "      <td>http://images.amazon.com/images/P/0399135782.0...</td>\n",
       "      <td>http://images.amazon.com/images/P/0399135782.0...</td>\n",
       "    </tr>\n",
       "    <tr>\n",
       "      <th>1</th>\n",
       "      <td>0440234743</td>\n",
       "      <td>The Testament</td>\n",
       "      <td>John Grisham</td>\n",
       "      <td>1999</td>\n",
       "      <td>Dell</td>\n",
       "      <td>http://images.amazon.com/images/P/0440234743.0...</td>\n",
       "      <td>http://images.amazon.com/images/P/0440234743.0...</td>\n",
       "      <td>http://images.amazon.com/images/P/0440234743.0...</td>\n",
       "    </tr>\n",
       "    <tr>\n",
       "      <th>2</th>\n",
       "      <td>0452264464</td>\n",
       "      <td>Beloved (Plume Contemporary Fiction)</td>\n",
       "      <td>Toni Morrison</td>\n",
       "      <td>1994</td>\n",
       "      <td>Plume</td>\n",
       "      <td>http://images.amazon.com/images/P/0452264464.0...</td>\n",
       "      <td>http://images.amazon.com/images/P/0452264464.0...</td>\n",
       "      <td>http://images.amazon.com/images/P/0452264464.0...</td>\n",
       "    </tr>\n",
       "    <tr>\n",
       "      <th>3</th>\n",
       "      <td>0609804618</td>\n",
       "      <td>Our Dumb Century: The Onion Presents 100 Years...</td>\n",
       "      <td>The Onion</td>\n",
       "      <td>1999</td>\n",
       "      <td>Three Rivers Press</td>\n",
       "      <td>http://images.amazon.com/images/P/0609804618.0...</td>\n",
       "      <td>http://images.amazon.com/images/P/0609804618.0...</td>\n",
       "      <td>http://images.amazon.com/images/P/0609804618.0...</td>\n",
       "    </tr>\n",
       "    <tr>\n",
       "      <th>4</th>\n",
       "      <td>0971880107</td>\n",
       "      <td>Wild Animus</td>\n",
       "      <td>Rich Shapero</td>\n",
       "      <td>2004</td>\n",
       "      <td>Too Far</td>\n",
       "      <td>http://images.amazon.com/images/P/0971880107.0...</td>\n",
       "      <td>http://images.amazon.com/images/P/0971880107.0...</td>\n",
       "      <td>http://images.amazon.com/images/P/0971880107.0...</td>\n",
       "    </tr>\n",
       "  </tbody>\n",
       "</table>\n",
       "</div>"
      ]
     },
     "execution_count": 16,
     "metadata": {},
     "output_type": "execute_result"
    }
   ],
   "execution_count": 16
  },
  {
   "metadata": {
    "ExecuteTime": {
     "end_time": "2025-05-05T15:20:49.883356Z",
     "start_time": "2025-05-05T15:20:49.872861Z"
    }
   },
   "cell_type": "code",
   "source": [
    "books['Content'] = books['Book-Title'] + ' ' + books['Book-Author'] + ' ' + books['Publisher']\n",
    "\n",
    "books = books.reindex(columns=['ISBN', 'Book-Title', 'Book-Author', 'Year-Of-Publication', 'Publisher', 'Content'])"
   ],
   "id": "31a87497c5ecc96a",
   "outputs": [],
   "execution_count": 17
  },
  {
   "metadata": {
    "ExecuteTime": {
     "end_time": "2025-05-05T15:21:02.485440Z",
     "start_time": "2025-05-05T15:21:02.437938Z"
    }
   },
   "cell_type": "code",
   "source": [
    "from sklearn.feature_extraction.text import TfidfVectorizer\n",
    "\n",
    "vectorizer = TfidfVectorizer(stop_words='english') # Create the TF-IDF objesct to use\n",
    "\n",
    "tfidf_matrix = vectorizer.fit_transform(books['Content'])"
   ],
   "id": "d964e022dee9834",
   "outputs": [],
   "execution_count": 18
  },
  {
   "metadata": {
    "ExecuteTime": {
     "end_time": "2025-05-05T15:21:06.718926Z",
     "start_time": "2025-05-05T15:21:06.654798Z"
    }
   },
   "cell_type": "code",
   "source": [
    "from sklearn.metrics.pairwise import cosine_similarity\n",
    "\n",
    "cosine_sim = cosine_similarity(tfidf_matrix, tfidf_matrix)"
   ],
   "id": "5a771787a9ab2e07",
   "outputs": [],
   "execution_count": 19
  },
  {
   "metadata": {
    "ExecuteTime": {
     "end_time": "2025-05-05T15:21:07.401911Z",
     "start_time": "2025-05-05T15:21:07.395684Z"
    }
   },
   "cell_type": "code",
   "source": [
    "def get_recommendations(isbn, k=5):\n",
    "\n",
    "    indices = books.reset_index().set_index('ISBN') # new dataframe with isbn as index\n",
    "\n",
    "    if isbn not in indices.index:\n",
    "        return []\n",
    "\n",
    "    idx = indices.loc[isbn]['index'] #return the index of the choosen book\n",
    "\n",
    "    sim_scores = list(enumerate(cosine_sim[idx]))\n",
    "\n",
    "    sim_scores = sorted(sim_scores, key=lambda x: x[1], reverse=True)[1:k+1]\n",
    "\n",
    "    # sorted(sim_scores, key=lambda x: x[1] هرتب حسب التشابه اللي هو x[1\n",
    "    # reverse=True --> sort the similarity scores in descending order\n",
    "    # [1:k+1] skip [0] refers to the book itself\n",
    "\n",
    "    book_indices = [i[0] for i in sim_scores]  #list of indices only\n",
    "\n",
    "    return books.iloc[book_indices]['ISBN'].tolist()\n"
   ],
   "id": "4cfa74c4baaabb04",
   "outputs": [],
   "execution_count": 20
  },
  {
   "metadata": {
    "ExecuteTime": {
     "end_time": "2025-05-05T15:38:08.514235Z",
     "start_time": "2025-05-05T15:38:08.409191Z"
    }
   },
   "cell_type": "code",
   "source": [
    "# Find books with \"harry potter\" in the title (case-insensitive)\n",
    "harry_potter_mask = books.loc[:, \"Book-Title\"].str.lower().str.contains(\"harry potter\")\n",
    "\n",
    "# Get the ISBNs of those books\n",
    "harry_potter_isbns = books[harry_potter_mask].loc[:, \"ISBN\"].tolist()\n",
    "\n",
    "# Get recommendations based on the first Harry Potter book\n",
    "recommended_isbns = get_recommendations(harry_potter_isbns[0])\n",
    "\n",
    "# Show recommended book titles and their ISBNs\n",
    "recommended_books_df = books[books['ISBN'].isin(recommended_isbns)].loc[:, [\"Book-Title\", \"ISBN\"]]\n",
    "recommended_books_df"
   ],
   "id": "1020b41ae0671f2",
   "outputs": [
    {
     "data": {
      "text/plain": [
       "                                             Book-Title        ISBN\n",
       "573   Harry Potter and the Sorcerer's Stone (Harry P...  059035342X\n",
       "682      Harry Potter and the Sorcerer's Stone (Book 1)  0590353403\n",
       "795    Harry Potter and the Chamber of Secrets (Book 2)  0439064872\n",
       "1120       Harry Potter and the Goblet of Fire (Book 4)  0439139597\n",
       "2088  It's A Magical World: A Calvin and Hobbes Coll...  0836221362"
      ],
      "text/html": [
       "<div>\n",
       "<style scoped>\n",
       "    .dataframe tbody tr th:only-of-type {\n",
       "        vertical-align: middle;\n",
       "    }\n",
       "\n",
       "    .dataframe tbody tr th {\n",
       "        vertical-align: top;\n",
       "    }\n",
       "\n",
       "    .dataframe thead th {\n",
       "        text-align: right;\n",
       "    }\n",
       "</style>\n",
       "<table border=\"1\" class=\"dataframe\">\n",
       "  <thead>\n",
       "    <tr style=\"text-align: right;\">\n",
       "      <th></th>\n",
       "      <th>Book-Title</th>\n",
       "      <th>ISBN</th>\n",
       "    </tr>\n",
       "  </thead>\n",
       "  <tbody>\n",
       "    <tr>\n",
       "      <th>573</th>\n",
       "      <td>Harry Potter and the Sorcerer's Stone (Harry P...</td>\n",
       "      <td>059035342X</td>\n",
       "    </tr>\n",
       "    <tr>\n",
       "      <th>682</th>\n",
       "      <td>Harry Potter and the Sorcerer's Stone (Book 1)</td>\n",
       "      <td>0590353403</td>\n",
       "    </tr>\n",
       "    <tr>\n",
       "      <th>795</th>\n",
       "      <td>Harry Potter and the Chamber of Secrets (Book 2)</td>\n",
       "      <td>0439064872</td>\n",
       "    </tr>\n",
       "    <tr>\n",
       "      <th>1120</th>\n",
       "      <td>Harry Potter and the Goblet of Fire (Book 4)</td>\n",
       "      <td>0439139597</td>\n",
       "    </tr>\n",
       "    <tr>\n",
       "      <th>2088</th>\n",
       "      <td>It's A Magical World: A Calvin and Hobbes Coll...</td>\n",
       "      <td>0836221362</td>\n",
       "    </tr>\n",
       "  </tbody>\n",
       "</table>\n",
       "</div>"
      ]
     },
     "execution_count": 37,
     "metadata": {},
     "output_type": "execute_result"
    }
   ],
   "execution_count": 37
  }
 ],
 "metadata": {
  "kernelspec": {
   "display_name": "Python 3",
   "language": "python",
   "name": "python3"
  },
  "language_info": {
   "codemirror_mode": {
    "name": "ipython",
    "version": 2
   },
   "file_extension": ".py",
   "mimetype": "text/x-python",
   "name": "python",
   "nbconvert_exporter": "python",
   "pygments_lexer": "ipython2",
   "version": "2.7.6"
  }
 },
 "nbformat": 4,
 "nbformat_minor": 5
}
