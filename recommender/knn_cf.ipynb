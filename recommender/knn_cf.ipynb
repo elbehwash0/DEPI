{
 "cells": [
  {
   "cell_type": "markdown",
   "id": "b2939c2d",
   "metadata": {},
   "source": [
    "# knn_cf"
   ]
  },
  {
   "cell_type": "code",
   "execution_count": 1,
   "id": "a0615f1c",
   "metadata": {},
   "outputs": [],
   "source": [
    "import pandas as pd\n",
    "import numpy as np\n",
    "import matplotlib.pyplot as plt\n",
    "from sklearn.neighbors import NearestNeighbors\n",
    "from scipy.sparse import csr_matrix"
   ]
  },
  {
   "cell_type": "code",
   "execution_count": 2,
   "id": "398c186a",
   "metadata": {},
   "outputs": [],
   "source": [
    "books = pd.read_csv(r'D:\\DEBI_DATA_SCIENCE\\recommend_system_project\\books_cleaned.csv')\n",
    "ratings = pd.read_csv(r'D:\\DEBI_DATA_SCIENCE\\recommend_system_project\\ratings_cleaned.csv')\n",
    "users = pd.read_csv(r'D:\\DEBI_DATA_SCIENCE\\recommend_system_project\\users_cleaned.csv')\n"
   ]
  },
  {
   "cell_type": "markdown",
   "id": "2d776209",
   "metadata": {},
   "source": [
    "# **processing**"
   ]
  },
  {
   "cell_type": "markdown",
   "id": "0ef2325d",
   "metadata": {},
   "source": [
    "# book_df"
   ]
  },
  {
   "cell_type": "code",
   "execution_count": 4,
   "id": "c38a2b2f",
   "metadata": {},
   "outputs": [
    {
     "name": "stdout",
     "output_type": "stream",
     "text": [
      "<class 'pandas.core.frame.DataFrame'>\n",
      "RangeIndex: 3040 entries, 0 to 3039\n",
      "Data columns (total 8 columns):\n",
      " #   Column               Non-Null Count  Dtype \n",
      "---  ------               --------------  ----- \n",
      " 0   ISBN                 3040 non-null   object\n",
      " 1   Book-Title           3040 non-null   object\n",
      " 2   Book-Author          3040 non-null   object\n",
      " 3   Year-Of-Publication  3040 non-null   int64 \n",
      " 4   Publisher            3040 non-null   object\n",
      " 5   Image-URL-S          3040 non-null   object\n",
      " 6   Image-URL-M          3040 non-null   object\n",
      " 7   Image-URL-L          3040 non-null   object\n",
      "dtypes: int64(1), object(7)\n",
      "memory usage: 190.1+ KB\n"
     ]
    }
   ],
   "source": [
    "books.info()"
   ]
  },
  {
   "cell_type": "code",
   "execution_count": 5,
   "id": "4eedd956",
   "metadata": {},
   "outputs": [
    {
     "data": {
      "text/plain": [
       "Index(['ISBN', 'Book-Title', 'Book-Author', 'Year-Of-Publication', 'Publisher',\n",
       "       'Image-URL-S', 'Image-URL-M', 'Image-URL-L'],\n",
       "      dtype='object')"
      ]
     },
     "execution_count": 5,
     "metadata": {},
     "output_type": "execute_result"
    }
   ],
   "source": [
    "books.columns"
   ]
  },
  {
   "cell_type": "code",
   "execution_count": 26,
   "id": "c5879cca",
   "metadata": {},
   "outputs": [
    {
     "name": "stdout",
     "output_type": "stream",
     "text": [
      "ISBN                   0\n",
      "Book-Title             0\n",
      "Book-Author            0\n",
      "Year-Of-Publication    0\n",
      "Publisher              0\n",
      "Image-URL-S            0\n",
      "Image-URL-M            0\n",
      "Image-URL-L            0\n",
      "dtype: int64\n",
      "duplicated = 0\n"
     ]
    }
   ],
   "source": [
    "print(books.isna().sum())\n",
    "print('duplicated =',books.duplicated().sum())"
   ]
  },
  {
   "cell_type": "markdown",
   "id": "462effda",
   "metadata": {},
   "source": [
    "# international Standard Book Number\n",
    "cheack the validatiion"
   ]
  },
  {
   "cell_type": "code",
   "execution_count": 3,
   "id": "b9daa1d4",
   "metadata": {},
   "outputs": [],
   "source": [
    "import re\n",
    "\n",
    "def is_valid_isbn(isbn):\n",
    "    rex=r'^\\d{10}'\n",
    "    # return (re.match(rex, isbn))\n",
    "    return bool(re.match(rex, isbn))"
   ]
  },
  {
   "cell_type": "code",
   "execution_count": 6,
   "id": "07d9f449",
   "metadata": {},
   "outputs": [
    {
     "data": {
      "text/plain": [
       "True"
      ]
     },
     "execution_count": 6,
     "metadata": {},
     "output_type": "execute_result"
    }
   ],
   "source": [
    "books['ISBN'].apply(is_valid_isbn)[0]"
   ]
  },
  {
   "cell_type": "code",
   "execution_count": 29,
   "id": "46698c73",
   "metadata": {},
   "outputs": [],
   "source": [
    "# book_df[book_df['ISBN'].apply(is_valid_isbn)]"
   ]
  },
  {
   "cell_type": "code",
   "execution_count": 5,
   "id": "472267dd",
   "metadata": {},
   "outputs": [],
   "source": [
    "books=books[books['ISBN'].apply(is_valid_isbn)]"
   ]
  },
  {
   "cell_type": "code",
   "execution_count": 10,
   "id": "cba8ecd9",
   "metadata": {},
   "outputs": [
    {
     "data": {
      "text/html": [
       "<div>\n",
       "<style scoped>\n",
       "    .dataframe tbody tr th:only-of-type {\n",
       "        vertical-align: middle;\n",
       "    }\n",
       "\n",
       "    .dataframe tbody tr th {\n",
       "        vertical-align: top;\n",
       "    }\n",
       "\n",
       "    .dataframe thead th {\n",
       "        text-align: right;\n",
       "    }\n",
       "</style>\n",
       "<table border=\"1\" class=\"dataframe\">\n",
       "  <thead>\n",
       "    <tr style=\"text-align: right;\">\n",
       "      <th></th>\n",
       "      <th>ISBN</th>\n",
       "      <th>Book-Title</th>\n",
       "      <th>Book-Author</th>\n",
       "      <th>Year-Of-Publication</th>\n",
       "      <th>Publisher</th>\n",
       "      <th>Image-URL-S</th>\n",
       "      <th>Image-URL-M</th>\n",
       "      <th>Image-URL-L</th>\n",
       "    </tr>\n",
       "  </thead>\n",
       "  <tbody>\n",
       "    <tr>\n",
       "      <th>0</th>\n",
       "      <td>0399135782</td>\n",
       "      <td>The Kitchen God's Wife</td>\n",
       "      <td>Amy Tan</td>\n",
       "      <td>1991</td>\n",
       "      <td>Putnam Pub Group</td>\n",
       "      <td>http://images.amazon.com/images/P/0399135782.0...</td>\n",
       "      <td>http://images.amazon.com/images/P/0399135782.0...</td>\n",
       "      <td>http://images.amazon.com/images/P/0399135782.0...</td>\n",
       "    </tr>\n",
       "    <tr>\n",
       "      <th>1</th>\n",
       "      <td>0440234743</td>\n",
       "      <td>The Testament</td>\n",
       "      <td>John Grisham</td>\n",
       "      <td>1999</td>\n",
       "      <td>Dell</td>\n",
       "      <td>http://images.amazon.com/images/P/0440234743.0...</td>\n",
       "      <td>http://images.amazon.com/images/P/0440234743.0...</td>\n",
       "      <td>http://images.amazon.com/images/P/0440234743.0...</td>\n",
       "    </tr>\n",
       "    <tr>\n",
       "      <th>2</th>\n",
       "      <td>0452264464</td>\n",
       "      <td>Beloved (Plume Contemporary Fiction)</td>\n",
       "      <td>Toni Morrison</td>\n",
       "      <td>1994</td>\n",
       "      <td>Plume</td>\n",
       "      <td>http://images.amazon.com/images/P/0452264464.0...</td>\n",
       "      <td>http://images.amazon.com/images/P/0452264464.0...</td>\n",
       "      <td>http://images.amazon.com/images/P/0452264464.0...</td>\n",
       "    </tr>\n",
       "    <tr>\n",
       "      <th>3</th>\n",
       "      <td>0609804618</td>\n",
       "      <td>Our Dumb Century: The Onion Presents 100 Years...</td>\n",
       "      <td>The Onion</td>\n",
       "      <td>1999</td>\n",
       "      <td>Three Rivers Press</td>\n",
       "      <td>http://images.amazon.com/images/P/0609804618.0...</td>\n",
       "      <td>http://images.amazon.com/images/P/0609804618.0...</td>\n",
       "      <td>http://images.amazon.com/images/P/0609804618.0...</td>\n",
       "    </tr>\n",
       "    <tr>\n",
       "      <th>4</th>\n",
       "      <td>0971880107</td>\n",
       "      <td>Wild Animus</td>\n",
       "      <td>Rich Shapero</td>\n",
       "      <td>2004</td>\n",
       "      <td>Too Far</td>\n",
       "      <td>http://images.amazon.com/images/P/0971880107.0...</td>\n",
       "      <td>http://images.amazon.com/images/P/0971880107.0...</td>\n",
       "      <td>http://images.amazon.com/images/P/0971880107.0...</td>\n",
       "    </tr>\n",
       "  </tbody>\n",
       "</table>\n",
       "</div>"
      ],
      "text/plain": [
       "         ISBN                                         Book-Title  \\\n",
       "0  0399135782                             The Kitchen God's Wife   \n",
       "1  0440234743                                      The Testament   \n",
       "2  0452264464               Beloved (Plume Contemporary Fiction)   \n",
       "3  0609804618  Our Dumb Century: The Onion Presents 100 Years...   \n",
       "4  0971880107                                        Wild Animus   \n",
       "\n",
       "     Book-Author  Year-Of-Publication           Publisher  \\\n",
       "0        Amy Tan                 1991    Putnam Pub Group   \n",
       "1   John Grisham                 1999                Dell   \n",
       "2  Toni Morrison                 1994               Plume   \n",
       "3      The Onion                 1999  Three Rivers Press   \n",
       "4   Rich Shapero                 2004             Too Far   \n",
       "\n",
       "                                         Image-URL-S  \\\n",
       "0  http://images.amazon.com/images/P/0399135782.0...   \n",
       "1  http://images.amazon.com/images/P/0440234743.0...   \n",
       "2  http://images.amazon.com/images/P/0452264464.0...   \n",
       "3  http://images.amazon.com/images/P/0609804618.0...   \n",
       "4  http://images.amazon.com/images/P/0971880107.0...   \n",
       "\n",
       "                                         Image-URL-M  \\\n",
       "0  http://images.amazon.com/images/P/0399135782.0...   \n",
       "1  http://images.amazon.com/images/P/0440234743.0...   \n",
       "2  http://images.amazon.com/images/P/0452264464.0...   \n",
       "3  http://images.amazon.com/images/P/0609804618.0...   \n",
       "4  http://images.amazon.com/images/P/0971880107.0...   \n",
       "\n",
       "                                         Image-URL-L  \n",
       "0  http://images.amazon.com/images/P/0399135782.0...  \n",
       "1  http://images.amazon.com/images/P/0440234743.0...  \n",
       "2  http://images.amazon.com/images/P/0452264464.0...  \n",
       "3  http://images.amazon.com/images/P/0609804618.0...  \n",
       "4  http://images.amazon.com/images/P/0971880107.0...  "
      ]
     },
     "execution_count": 10,
     "metadata": {},
     "output_type": "execute_result"
    }
   ],
   "source": [
    "books.head()"
   ]
  },
  {
   "cell_type": "code",
   "execution_count": 6,
   "id": "261b3724",
   "metadata": {},
   "outputs": [
    {
     "data": {
      "text/plain": [
       "dtype('int32')"
      ]
     },
     "execution_count": 6,
     "metadata": {},
     "output_type": "execute_result"
    }
   ],
   "source": [
    "books['ISBN']=books['ISBN'].astype(int)\n",
    "books['ISBN'].dtype"
   ]
  },
  {
   "cell_type": "markdown",
   "id": "2736290c",
   "metadata": {},
   "source": [
    "# users_df"
   ]
  },
  {
   "cell_type": "code",
   "execution_count": 140,
   "id": "5f014777",
   "metadata": {},
   "outputs": [
    {
     "data": {
      "text/plain": [
       "Index(['User-ID', 'Location', 'Age'], dtype='object')"
      ]
     },
     "execution_count": 140,
     "metadata": {},
     "output_type": "execute_result"
    }
   ],
   "source": [
    "users.columns"
   ]
  },
  {
   "cell_type": "code",
   "execution_count": 141,
   "id": "57675b64",
   "metadata": {},
   "outputs": [
    {
     "data": {
      "text/plain": [
       "User-ID     0.000000\n",
       "Location    0.000000\n",
       "Age         0.271771\n",
       "dtype: float64"
      ]
     },
     "execution_count": 141,
     "metadata": {},
     "output_type": "execute_result"
    }
   ],
   "source": [
    "users.isna().sum()/len(users)"
   ]
  },
  {
   "cell_type": "code",
   "execution_count": 101,
   "id": "0cf61c8d",
   "metadata": {},
   "outputs": [
    {
     "data": {
      "image/png": "[encoded data removed]",
      "text/plain": [
       "<Figure size 640x480 with 2 Axes>"
      ]
     },
     "metadata": {},
     "output_type": "display_data"
    }
   ],
   "source": [
    "users.hist()\n",
    "plt.show()"
   ]
  },
  {
   "cell_type": "markdown",
   "id": "5e2c3375",
   "metadata": {},
   "source": [
    "# countnue\n"
   ]
  },
  {
   "cell_type": "code",
   "execution_count": 7,
   "id": "f54e529e",
   "metadata": {},
   "outputs": [
    {
     "data": {
      "text/html": [
       "<div>\n",
       "<style scoped>\n",
       "    .dataframe tbody tr th:only-of-type {\n",
       "        vertical-align: middle;\n",
       "    }\n",
       "\n",
       "    .dataframe tbody tr th {\n",
       "        vertical-align: top;\n",
       "    }\n",
       "\n",
       "    .dataframe thead th {\n",
       "        text-align: right;\n",
       "    }\n",
       "</style>\n",
       "<table border=\"1\" class=\"dataframe\">\n",
       "  <thead>\n",
       "    <tr style=\"text-align: right;\">\n",
       "      <th></th>\n",
       "      <th>User-ID</th>\n",
       "      <th>Age</th>\n",
       "    </tr>\n",
       "  </thead>\n",
       "  <tbody>\n",
       "    <tr>\n",
       "      <th>count</th>\n",
       "      <td>3422.000000</td>\n",
       "      <td>2492.000000</td>\n",
       "    </tr>\n",
       "    <tr>\n",
       "      <th>mean</th>\n",
       "      <td>140270.727352</td>\n",
       "      <td>36.260433</td>\n",
       "    </tr>\n",
       "    <tr>\n",
       "      <th>std</th>\n",
       "      <td>79593.848162</td>\n",
       "      <td>13.905051</td>\n",
       "    </tr>\n",
       "    <tr>\n",
       "      <th>min</th>\n",
       "      <td>114.000000</td>\n",
       "      <td>0.000000</td>\n",
       "    </tr>\n",
       "    <tr>\n",
       "      <th>25%</th>\n",
       "      <td>71802.750000</td>\n",
       "      <td>27.000000</td>\n",
       "    </tr>\n",
       "    <tr>\n",
       "      <th>50%</th>\n",
       "      <td>138624.500000</td>\n",
       "      <td>34.000000</td>\n",
       "    </tr>\n",
       "    <tr>\n",
       "      <th>75%</th>\n",
       "      <td>209801.750000</td>\n",
       "      <td>43.000000</td>\n",
       "    </tr>\n",
       "    <tr>\n",
       "      <th>max</th>\n",
       "      <td>278843.000000</td>\n",
       "      <td>239.000000</td>\n",
       "    </tr>\n",
       "  </tbody>\n",
       "</table>\n",
       "</div>"
      ],
      "text/plain": [
       "             User-ID          Age\n",
       "count    3422.000000  2492.000000\n",
       "mean   140270.727352    36.260433\n",
       "std     79593.848162    13.905051\n",
       "min       114.000000     0.000000\n",
       "25%     71802.750000    27.000000\n",
       "50%    138624.500000    34.000000\n",
       "75%    209801.750000    43.000000\n",
       "max    278843.000000   239.000000"
      ]
     },
     "execution_count": 7,
     "metadata": {},
     "output_type": "execute_result"
    }
   ],
   "source": [
    "users.describe()"
   ]
  },
  {
   "cell_type": "code",
   "execution_count": 8,
   "id": "aae35c80",
   "metadata": {},
   "outputs": [
    {
     "data": {
      "text/html": [
       "<div>\n",
       "<style scoped>\n",
       "    .dataframe tbody tr th:only-of-type {\n",
       "        vertical-align: middle;\n",
       "    }\n",
       "\n",
       "    .dataframe tbody tr th {\n",
       "        vertical-align: top;\n",
       "    }\n",
       "\n",
       "    .dataframe thead th {\n",
       "        text-align: right;\n",
       "    }\n",
       "</style>\n",
       "<table border=\"1\" class=\"dataframe\">\n",
       "  <thead>\n",
       "    <tr style=\"text-align: right;\">\n",
       "      <th></th>\n",
       "      <th>Location</th>\n",
       "    </tr>\n",
       "  </thead>\n",
       "  <tbody>\n",
       "    <tr>\n",
       "      <th>count</th>\n",
       "      <td>3422</td>\n",
       "    </tr>\n",
       "    <tr>\n",
       "      <th>unique</th>\n",
       "      <td>2037</td>\n",
       "    </tr>\n",
       "    <tr>\n",
       "      <th>top</th>\n",
       "      <td>toronto, ontario, canada</td>\n",
       "    </tr>\n",
       "    <tr>\n",
       "      <th>freq</th>\n",
       "      <td>48</td>\n",
       "    </tr>\n",
       "  </tbody>\n",
       "</table>\n",
       "</div>"
      ],
      "text/plain": [
       "                        Location\n",
       "count                       3422\n",
       "unique                      2037\n",
       "top     toronto, ontario, canada\n",
       "freq                          48"
      ]
     },
     "execution_count": 8,
     "metadata": {},
     "output_type": "execute_result"
    }
   ],
   "source": [
    "users.describe(include='object')"
   ]
  },
  {
   "cell_type": "markdown",
   "id": "a6d2e642",
   "metadata": {},
   "source": [
    "# rating_df"
   ]
  },
  {
   "cell_type": "code",
   "execution_count": 9,
   "id": "aaa44400",
   "metadata": {},
   "outputs": [
    {
     "data": {
      "text/html": [
       "<div>\n",
       "<style scoped>\n",
       "    .dataframe tbody tr th:only-of-type {\n",
       "        vertical-align: middle;\n",
       "    }\n",
       "\n",
       "    .dataframe tbody tr th {\n",
       "        vertical-align: top;\n",
       "    }\n",
       "\n",
       "    .dataframe thead th {\n",
       "        text-align: right;\n",
       "    }\n",
       "</style>\n",
       "<table border=\"1\" class=\"dataframe\">\n",
       "  <thead>\n",
       "    <tr style=\"text-align: right;\">\n",
       "      <th></th>\n",
       "      <th>User-ID</th>\n",
       "      <th>ISBN</th>\n",
       "      <th>Book-Rating</th>\n",
       "    </tr>\n",
       "  </thead>\n",
       "  <tbody>\n",
       "    <tr>\n",
       "      <th>0</th>\n",
       "      <td>277157</td>\n",
       "      <td>0312979517</td>\n",
       "      <td>5.0</td>\n",
       "    </tr>\n",
       "    <tr>\n",
       "      <th>1</th>\n",
       "      <td>277157</td>\n",
       "      <td>0345452550</td>\n",
       "      <td>7.0</td>\n",
       "    </tr>\n",
       "    <tr>\n",
       "      <th>2</th>\n",
       "      <td>277157</td>\n",
       "      <td>0399146504</td>\n",
       "      <td>7.0</td>\n",
       "    </tr>\n",
       "    <tr>\n",
       "      <th>3</th>\n",
       "      <td>277157</td>\n",
       "      <td>0399151451</td>\n",
       "      <td>7.0</td>\n",
       "    </tr>\n",
       "    <tr>\n",
       "      <th>4</th>\n",
       "      <td>277157</td>\n",
       "      <td>0425183181</td>\n",
       "      <td>5.0</td>\n",
       "    </tr>\n",
       "  </tbody>\n",
       "</table>\n",
       "</div>"
      ],
      "text/plain": [
       "   User-ID        ISBN  Book-Rating\n",
       "0   277157  0312979517          5.0\n",
       "1   277157  0345452550          7.0\n",
       "2   277157  0399146504          7.0\n",
       "3   277157  0399151451          7.0\n",
       "4   277157  0425183181          5.0"
      ]
     },
     "execution_count": 9,
     "metadata": {},
     "output_type": "execute_result"
    }
   ],
   "source": [
    "ratings.head()"
   ]
  },
  {
   "cell_type": "code",
   "execution_count": 35,
   "id": "a9f143a8",
   "metadata": {},
   "outputs": [
    {
     "data": {
      "text/plain": [
       "Index(['User-ID', 'ISBN', 'Book-Rating'], dtype='object')"
      ]
     },
     "execution_count": 35,
     "metadata": {},
     "output_type": "execute_result"
    }
   ],
   "source": [
    "ratings.columns"
   ]
  },
  {
   "cell_type": "code",
   "execution_count": 36,
   "id": "00d4e7ae",
   "metadata": {},
   "outputs": [
    {
     "name": "stdout",
     "output_type": "stream",
     "text": [
      "<class 'pandas.core.frame.DataFrame'>\n",
      "RangeIndex: 55976 entries, 0 to 55975\n",
      "Data columns (total 3 columns):\n",
      " #   Column       Non-Null Count  Dtype  \n",
      "---  ------       --------------  -----  \n",
      " 0   User-ID      55976 non-null  int64  \n",
      " 1   ISBN         55976 non-null  object \n",
      " 2   Book-Rating  55976 non-null  float64\n",
      "dtypes: float64(1), int64(1), object(1)\n",
      "memory usage: 1.3+ MB\n"
     ]
    }
   ],
   "source": [
    "ratings.info()"
   ]
  },
  {
   "cell_type": "code",
   "execution_count": 10,
   "id": "6c3ac2df",
   "metadata": {},
   "outputs": [],
   "source": [
    "ratings=ratings[ratings['ISBN'].apply(is_valid_isbn)]\n",
    "ratings['ISBN']=ratings['ISBN'].astype(int)"
   ]
  },
  {
   "cell_type": "code",
   "execution_count": 38,
   "id": "e58edf27",
   "metadata": {},
   "outputs": [
    {
     "data": {
      "text/html": [
       "<div>\n",
       "<style scoped>\n",
       "    .dataframe tbody tr th:only-of-type {\n",
       "        vertical-align: middle;\n",
       "    }\n",
       "\n",
       "    .dataframe tbody tr th {\n",
       "        vertical-align: top;\n",
       "    }\n",
       "\n",
       "    .dataframe thead th {\n",
       "        text-align: right;\n",
       "    }\n",
       "</style>\n",
       "<table border=\"1\" class=\"dataframe\">\n",
       "  <thead>\n",
       "    <tr style=\"text-align: right;\">\n",
       "      <th></th>\n",
       "      <th>User-ID</th>\n",
       "      <th>ISBN</th>\n",
       "      <th>Book-Rating</th>\n",
       "    </tr>\n",
       "  </thead>\n",
       "  <tbody>\n",
       "    <tr>\n",
       "      <th>count</th>\n",
       "      <td>51439.000000</td>\n",
       "      <td>5.143900e+04</td>\n",
       "      <td>51439.000000</td>\n",
       "    </tr>\n",
       "    <tr>\n",
       "      <th>mean</th>\n",
       "      <td>137151.346682</td>\n",
       "      <td>4.880051e+08</td>\n",
       "      <td>7.883571</td>\n",
       "    </tr>\n",
       "    <tr>\n",
       "      <th>std</th>\n",
       "      <td>80837.392991</td>\n",
       "      <td>2.765944e+08</td>\n",
       "      <td>1.750993</td>\n",
       "    </tr>\n",
       "    <tr>\n",
       "      <th>min</th>\n",
       "      <td>114.000000</td>\n",
       "      <td>7.154615e+06</td>\n",
       "      <td>1.000000</td>\n",
       "    </tr>\n",
       "    <tr>\n",
       "      <th>25%</th>\n",
       "      <td>68555.000000</td>\n",
       "      <td>3.454509e+08</td>\n",
       "      <td>7.000000</td>\n",
       "    </tr>\n",
       "    <tr>\n",
       "      <th>50%</th>\n",
       "      <td>135149.000000</td>\n",
       "      <td>4.409980e+08</td>\n",
       "      <td>8.000000</td>\n",
       "    </tr>\n",
       "    <tr>\n",
       "      <th>75%</th>\n",
       "      <td>208829.000000</td>\n",
       "      <td>5.535827e+08</td>\n",
       "      <td>9.000000</td>\n",
       "    </tr>\n",
       "    <tr>\n",
       "      <th>max</th>\n",
       "      <td>278843.000000</td>\n",
       "      <td>1.931562e+09</td>\n",
       "      <td>10.000000</td>\n",
       "    </tr>\n",
       "  </tbody>\n",
       "</table>\n",
       "</div>"
      ],
      "text/plain": [
       "             User-ID          ISBN   Book-Rating\n",
       "count   51439.000000  5.143900e+04  51439.000000\n",
       "mean   137151.346682  4.880051e+08      7.883571\n",
       "std     80837.392991  2.765944e+08      1.750993\n",
       "min       114.000000  7.154615e+06      1.000000\n",
       "25%     68555.000000  3.454509e+08      7.000000\n",
       "50%    135149.000000  4.409980e+08      8.000000\n",
       "75%    208829.000000  5.535827e+08      9.000000\n",
       "max    278843.000000  1.931562e+09     10.000000"
      ]
     },
     "execution_count": 38,
     "metadata": {},
     "output_type": "execute_result"
    }
   ],
   "source": [
    "ratings.describe()"
   ]
  },
  {
   "cell_type": "markdown",
   "id": "ed255091",
   "metadata": {},
   "source": [
    "# code "
   ]
  },
  {
   "cell_type": "code",
   "execution_count": null,
   "id": "b2f9e646",
   "metadata": {},
   "outputs": [
    {
     "data": {
      "image/png": "[encoded data removed]",
      "text/plain": [
       "<Figure size 640x480 with 1 Axes>"
      ]
     },
     "metadata": {},
     "output_type": "display_data"
    }
   ],
   "source": [
    "# Rating distribution\n",
    "plt.rc(\"font\", size=15)\n",
    "ratings['Book-Rating'].value_counts(sort=False).plot(kind='bar')\n",
    "plt.title('Rating Distribution\\n')\n",
    "plt.xlabel('Rating')\n",
    "plt.ylabel('Count')\n",
    "plt.show()\n",
    "\n",
    "\n"
   ]
  },
  {
   "cell_type": "code",
   "execution_count": 40,
   "id": "6c7dc445",
   "metadata": {},
   "outputs": [
    {
     "data": {
      "image/png": "[encoded data removed]",
      "text/plain": [
       "<Figure size 640x480 with 1 Axes>"
      ]
     },
     "metadata": {},
     "output_type": "display_data"
    }
   ],
   "source": [
    "# Age distribution\n",
    "users['Age'].hist(bins=[0, 10, 20, 30, 40, 50, 100])\n",
    "plt.title('Age Distribution\\n')\n",
    "plt.xlabel('Age')\n",
    "plt.ylabel('Count')\n",
    "plt.show()"
   ]
  },
  {
   "cell_type": "code",
   "execution_count": 41,
   "id": "1f3f25e6",
   "metadata": {},
   "outputs": [
    {
     "data": {
      "text/html": [
       "<div>\n",
       "<style scoped>\n",
       "    .dataframe tbody tr th:only-of-type {\n",
       "        vertical-align: middle;\n",
       "    }\n",
       "\n",
       "    .dataframe tbody tr th {\n",
       "        vertical-align: top;\n",
       "    }\n",
       "\n",
       "    .dataframe thead th {\n",
       "        text-align: right;\n",
       "    }\n",
       "</style>\n",
       "<table border=\"1\" class=\"dataframe\">\n",
       "  <thead>\n",
       "    <tr style=\"text-align: right;\">\n",
       "      <th></th>\n",
       "      <th>ISBN</th>\n",
       "      <th>Book-Rating</th>\n",
       "    </tr>\n",
       "  </thead>\n",
       "  <tbody>\n",
       "    <tr>\n",
       "      <th>225</th>\n",
       "      <td>140043519</td>\n",
       "      <td>8</td>\n",
       "    </tr>\n",
       "    <tr>\n",
       "      <th>1662</th>\n",
       "      <td>451527097</td>\n",
       "      <td>8</td>\n",
       "    </tr>\n",
       "    <tr>\n",
       "      <th>1302</th>\n",
       "      <td>440972329</td>\n",
       "      <td>8</td>\n",
       "    </tr>\n",
       "    <tr>\n",
       "      <th>2171</th>\n",
       "      <td>671670646</td>\n",
       "      <td>8</td>\n",
       "    </tr>\n",
       "    <tr>\n",
       "      <th>2533</th>\n",
       "      <td>805068015</td>\n",
       "      <td>8</td>\n",
       "    </tr>\n",
       "  </tbody>\n",
       "</table>\n",
       "</div>"
      ],
      "text/plain": [
       "           ISBN  Book-Rating\n",
       "225   140043519            8\n",
       "1662  451527097            8\n",
       "1302  440972329            8\n",
       "2171  671670646            8\n",
       "2533  805068015            8"
      ]
     },
     "execution_count": 41,
     "metadata": {},
     "output_type": "execute_result"
    }
   ],
   "source": [
    "pd.DataFrame(ratings.groupby('ISBN')['Book-Rating'].count().reset_index()).sort_values(by='Book-Rating',ascending=False).tail()\n"
   ]
  },
  {
   "cell_type": "markdown",
   "id": "b9517210",
   "metadata": {},
   "source": [
    "# Merge Ratings with Books"
   ]
  },
  {
   "cell_type": "markdown",
   "id": "354d13f3",
   "metadata": {},
   "source": [
    "# Train-test split"
   ]
  },
  {
   "cell_type": "code",
   "execution_count": 12,
   "id": "ace37ac1",
   "metadata": {},
   "outputs": [],
   "source": [
    "from sklearn.model_selection import train_test_split\n",
    "\n",
    "# 1. Start from the original ratings DataFrame\n",
    "ratings = ratings[ratings['Book-Rating'] > 0]  # Optional but helps filter out implicit feedback (zeros)\n",
    "\n",
    "# 2. Split into training and testing sets\n",
    "train_data, test_data = train_test_split(ratings, test_size=0.2, random_state=42)\n",
    "\n",
    "# 3. Create the train matrix\n",
    "train_matrix = ratings.pivot(index='ISBN', columns='User-ID', values='Book-Rating').fillna(0)\n",
    "\n",
    "# 4. Create the test matrix (only positive ratings)\n",
    "test_data = test_data[test_data['Book-Rating'] > 0]\n",
    "test_matrix = test_data.pivot(index='ISBN', columns='User-ID', values='Book-Rating').fillna(0)\n"
   ]
  },
  {
   "cell_type": "code",
   "execution_count": 13,
   "id": "ea0137f1",
   "metadata": {},
   "outputs": [
    {
     "data": {
      "text/plain": [
       "(2791, 3422)"
      ]
     },
     "execution_count": 13,
     "metadata": {},
     "output_type": "execute_result"
    }
   ],
   "source": [
    "train_matrix.shape"
   ]
  },
  {
   "cell_type": "code",
   "execution_count": 14,
   "id": "43f9a715",
   "metadata": {},
   "outputs": [
    {
     "data": {
      "text/html": [
       "<div>\n",
       "<style scoped>\n",
       "    .dataframe tbody tr th:only-of-type {\n",
       "        vertical-align: middle;\n",
       "    }\n",
       "\n",
       "    .dataframe tbody tr th {\n",
       "        vertical-align: top;\n",
       "    }\n",
       "\n",
       "    .dataframe thead th {\n",
       "        text-align: right;\n",
       "    }\n",
       "</style>\n",
       "<table border=\"1\" class=\"dataframe\">\n",
       "  <thead>\n",
       "    <tr style=\"text-align: right;\">\n",
       "      <th>User-ID</th>\n",
       "      <th>114</th>\n",
       "      <th>243</th>\n",
       "      <th>244</th>\n",
       "      <th>254</th>\n",
       "      <th>507</th>\n",
       "      <th>638</th>\n",
       "      <th>805</th>\n",
       "      <th>882</th>\n",
       "      <th>929</th>\n",
       "      <th>1025</th>\n",
       "      <th>...</th>\n",
       "      <th>278137</th>\n",
       "      <th>278188</th>\n",
       "      <th>278194</th>\n",
       "      <th>278202</th>\n",
       "      <th>278390</th>\n",
       "      <th>278418</th>\n",
       "      <th>278535</th>\n",
       "      <th>278582</th>\n",
       "      <th>278633</th>\n",
       "      <th>278843</th>\n",
       "    </tr>\n",
       "    <tr>\n",
       "      <th>ISBN</th>\n",
       "      <th></th>\n",
       "      <th></th>\n",
       "      <th></th>\n",
       "      <th></th>\n",
       "      <th></th>\n",
       "      <th></th>\n",
       "      <th></th>\n",
       "      <th></th>\n",
       "      <th></th>\n",
       "      <th></th>\n",
       "      <th></th>\n",
       "      <th></th>\n",
       "      <th></th>\n",
       "      <th></th>\n",
       "      <th></th>\n",
       "      <th></th>\n",
       "      <th></th>\n",
       "      <th></th>\n",
       "      <th></th>\n",
       "      <th></th>\n",
       "      <th></th>\n",
       "    </tr>\n",
       "  </thead>\n",
       "  <tbody>\n",
       "    <tr>\n",
       "      <th>7154615</th>\n",
       "      <td>0.0</td>\n",
       "      <td>0.0</td>\n",
       "      <td>0.0</td>\n",
       "      <td>0.0</td>\n",
       "      <td>0.0</td>\n",
       "      <td>0.0</td>\n",
       "      <td>0.0</td>\n",
       "      <td>0.0</td>\n",
       "      <td>0.0</td>\n",
       "      <td>0.0</td>\n",
       "      <td>...</td>\n",
       "      <td>0.0</td>\n",
       "      <td>0.0</td>\n",
       "      <td>0.0</td>\n",
       "      <td>0.0</td>\n",
       "      <td>0.0</td>\n",
       "      <td>0.0</td>\n",
       "      <td>0.0</td>\n",
       "      <td>0.0</td>\n",
       "      <td>0.0</td>\n",
       "      <td>0.0</td>\n",
       "    </tr>\n",
       "    <tr>\n",
       "      <th>20198817</th>\n",
       "      <td>0.0</td>\n",
       "      <td>0.0</td>\n",
       "      <td>0.0</td>\n",
       "      <td>0.0</td>\n",
       "      <td>0.0</td>\n",
       "      <td>0.0</td>\n",
       "      <td>0.0</td>\n",
       "      <td>0.0</td>\n",
       "      <td>0.0</td>\n",
       "      <td>0.0</td>\n",
       "      <td>...</td>\n",
       "      <td>0.0</td>\n",
       "      <td>0.0</td>\n",
       "      <td>0.0</td>\n",
       "      <td>0.0</td>\n",
       "      <td>0.0</td>\n",
       "      <td>0.0</td>\n",
       "      <td>0.0</td>\n",
       "      <td>0.0</td>\n",
       "      <td>0.0</td>\n",
       "      <td>0.0</td>\n",
       "    </tr>\n",
       "    <tr>\n",
       "      <th>20198906</th>\n",
       "      <td>0.0</td>\n",
       "      <td>0.0</td>\n",
       "      <td>0.0</td>\n",
       "      <td>0.0</td>\n",
       "      <td>0.0</td>\n",
       "      <td>0.0</td>\n",
       "      <td>0.0</td>\n",
       "      <td>0.0</td>\n",
       "      <td>0.0</td>\n",
       "      <td>0.0</td>\n",
       "      <td>...</td>\n",
       "      <td>0.0</td>\n",
       "      <td>0.0</td>\n",
       "      <td>0.0</td>\n",
       "      <td>0.0</td>\n",
       "      <td>0.0</td>\n",
       "      <td>0.0</td>\n",
       "      <td>0.0</td>\n",
       "      <td>0.0</td>\n",
       "      <td>0.0</td>\n",
       "      <td>0.0</td>\n",
       "    </tr>\n",
       "    <tr>\n",
       "      <th>20199600</th>\n",
       "      <td>0.0</td>\n",
       "      <td>0.0</td>\n",
       "      <td>0.0</td>\n",
       "      <td>0.0</td>\n",
       "      <td>0.0</td>\n",
       "      <td>0.0</td>\n",
       "      <td>0.0</td>\n",
       "      <td>0.0</td>\n",
       "      <td>0.0</td>\n",
       "      <td>0.0</td>\n",
       "      <td>...</td>\n",
       "      <td>0.0</td>\n",
       "      <td>0.0</td>\n",
       "      <td>0.0</td>\n",
       "      <td>0.0</td>\n",
       "      <td>0.0</td>\n",
       "      <td>0.0</td>\n",
       "      <td>0.0</td>\n",
       "      <td>0.0</td>\n",
       "      <td>0.0</td>\n",
       "      <td>0.0</td>\n",
       "    </tr>\n",
       "    <tr>\n",
       "      <th>20427859</th>\n",
       "      <td>0.0</td>\n",
       "      <td>0.0</td>\n",
       "      <td>0.0</td>\n",
       "      <td>0.0</td>\n",
       "      <td>9.0</td>\n",
       "      <td>0.0</td>\n",
       "      <td>0.0</td>\n",
       "      <td>0.0</td>\n",
       "      <td>0.0</td>\n",
       "      <td>0.0</td>\n",
       "      <td>...</td>\n",
       "      <td>0.0</td>\n",
       "      <td>0.0</td>\n",
       "      <td>0.0</td>\n",
       "      <td>0.0</td>\n",
       "      <td>0.0</td>\n",
       "      <td>0.0</td>\n",
       "      <td>0.0</td>\n",
       "      <td>0.0</td>\n",
       "      <td>0.0</td>\n",
       "      <td>0.0</td>\n",
       "    </tr>\n",
       "  </tbody>\n",
       "</table>\n",
       "<p>5 rows × 3422 columns</p>\n",
       "</div>"
      ],
      "text/plain": [
       "User-ID   114     243     244     254     507     638     805     882     \\\n",
       "ISBN                                                                       \n",
       "7154615      0.0     0.0     0.0     0.0     0.0     0.0     0.0     0.0   \n",
       "20198817     0.0     0.0     0.0     0.0     0.0     0.0     0.0     0.0   \n",
       "20198906     0.0     0.0     0.0     0.0     0.0     0.0     0.0     0.0   \n",
       "20199600     0.0     0.0     0.0     0.0     0.0     0.0     0.0     0.0   \n",
       "20427859     0.0     0.0     0.0     0.0     9.0     0.0     0.0     0.0   \n",
       "\n",
       "User-ID   929     1025    ...  278137  278188  278194  278202  278390  278418  \\\n",
       "ISBN                      ...                                                   \n",
       "7154615      0.0     0.0  ...     0.0     0.0     0.0     0.0     0.0     0.0   \n",
       "20198817     0.0     0.0  ...     0.0     0.0     0.0     0.0     0.0     0.0   \n",
       "20198906     0.0     0.0  ...     0.0     0.0     0.0     0.0     0.0     0.0   \n",
       "20199600     0.0     0.0  ...     0.0     0.0     0.0     0.0     0.0     0.0   \n",
       "20427859     0.0     0.0  ...     0.0     0.0     0.0     0.0     0.0     0.0   \n",
       "\n",
       "User-ID   278535  278582  278633  278843  \n",
       "ISBN                                      \n",
       "7154615      0.0     0.0     0.0     0.0  \n",
       "20198817     0.0     0.0     0.0     0.0  \n",
       "20198906     0.0     0.0     0.0     0.0  \n",
       "20199600     0.0     0.0     0.0     0.0  \n",
       "20427859     0.0     0.0     0.0     0.0  \n",
       "\n",
       "[5 rows x 3422 columns]"
      ]
     },
     "execution_count": 14,
     "metadata": {},
     "output_type": "execute_result"
    }
   ],
   "source": [
    "train_matrix.head()"
   ]
  },
  {
   "cell_type": "markdown",
   "id": "3850f0dd",
   "metadata": {},
   "source": [
    "# knn model"
   ]
  },
  {
   "cell_type": "markdown",
   "id": "71c713cd",
   "metadata": {},
   "source": [
    "# csr_matrix\n",
    "This creates a Compressed Sparse Row (CSR) matrix:\n",
    "\n",
    "Only stores non-zero values (i.e., actual ratings).\n",
    "\n",
    "Speeds up distance/similarity calculations (like cosine similarity in kNN).\n",
    "\n",
    "Great for recommender systems with large, sparse datasets.\n"
   ]
  },
  {
   "cell_type": "code",
   "execution_count": 24,
   "id": "70b241a6",
   "metadata": {},
   "outputs": [],
   "source": [
    "matrix = csr_matrix(train_matrix.values)"
   ]
  },
  {
   "cell_type": "markdown",
   "id": "fbb6cafb",
   "metadata": {},
   "source": [
    " # k-Nearest Neighbors (kNN) for item-based collaborative filtering\n",
    " Find books that are similar to a given book based on how users have rated them.\n",
    "\n",
    "Recommend books based on similarity of rating patterns\n",
    "# metric='cosine':\n",
    "Measures cosine similarity between book rating vectors (rows in the matrix).\n",
    "\n",
    "It focuses on the angle, not the magnitude. So it's good when users rate on different scales.\n",
    "# algorithm='brute':\n",
    "Uses brute-force search (compares every book with every other book).\n",
    "\n",
    "It’s simple and actually faster on sparse data, especially with cosine distance.\n",
    "\n",
    "\n"
   ]
  },
  {
   "cell_type": "code",
   "execution_count": 25,
   "id": "fa4f696d",
   "metadata": {},
   "outputs": [
    {
     "data": {
      "text/html": [
       "<style>#sk-container-id-1 {\n",
       "  /* Definition of color scheme common for light and dark mode */\n",
       "  --sklearn-color-text: black;\n",
       "  --sklearn-color-line: gray;\n",
       "  /* Definition of color scheme for unfitted estimators */\n",
       "  --sklearn-color-unfitted-level-0: #fff5e6;\n",
       "  --sklearn-color-unfitted-level-1: #f6e4d2;\n",
       "  --sklearn-color-unfitted-level-2: #ffe0b3;\n",
       "  --sklearn-color-unfitted-level-3: chocolate;\n",
       "  /* Definition of color scheme for fitted estimators */\n",
       "  --sklearn-color-fitted-level-0: #f0f8ff;\n",
       "  --sklearn-color-fitted-level-1: #d4ebff;\n",
       "  --sklearn-color-fitted-level-2: #b3dbfd;\n",
       "  --sklearn-color-fitted-level-3: cornflowerblue;\n",
       "\n",
       "  /* Specific color for light theme */\n",
       "  --sklearn-color-text-on-default-background: var(--sg-text-color, var(--theme-code-foreground, var(--jp-content-font-color1, black)));\n",
       "  --sklearn-color-background: var(--sg-background-color, var(--theme-background, var(--jp-layout-color0, white)));\n",
       "  --sklearn-color-border-box: var(--sg-text-color, var(--theme-code-foreground, var(--jp-content-font-color1, black)));\n",
       "  --sklearn-color-icon: #696969;\n",
       "\n",
       "  @media (prefers-color-scheme: dark) {\n",
       "    /* Redefinition of color scheme for dark theme */\n",
       "    --sklearn-color-text-on-default-background: var(--sg-text-color, var(--theme-code-foreground, var(--jp-content-font-color1, white)));\n",
       "    --sklearn-color-background: var(--sg-background-color, var(--theme-background, var(--jp-layout-color0, #111)));\n",
       "    --sklearn-color-border-box: var(--sg-text-color, var(--theme-code-foreground, var(--jp-content-font-color1, white)));\n",
       "    --sklearn-color-icon: #878787;\n",
       "  }\n",
       "}\n",
       "\n",
       "#sk-container-id-1 {\n",
       "  color: var(--sklearn-color-text);\n",
       "}\n",
       "\n",
       "#sk-container-id-1 pre {\n",
       "  padding: 0;\n",
       "}\n",
       "\n",
       "#sk-container-id-1 input.sk-hidden--visually {\n",
       "  border: 0;\n",
       "  clip: rect(1px 1px 1px 1px);\n",
       "  clip: rect(1px, 1px, 1px, 1px);\n",
       "  height: 1px;\n",
       "  margin: -1px;\n",
       "  overflow: hidden;\n",
       "  padding: 0;\n",
       "  position: absolute;\n",
       "  width: 1px;\n",
       "}\n",
       "\n",
       "#sk-container-id-1 div.sk-dashed-wrapped {\n",
       "  border: 1px dashed var(--sklearn-color-line);\n",
       "  margin: 0 0.4em 0.5em 0.4em;\n",
       "  box-sizing: border-box;\n",
       "  padding-bottom: 0.4em;\n",
       "  background-color: var(--sklearn-color-background);\n",
       "}\n",
       "\n",
       "#sk-container-id-1 div.sk-container {\n",
       "  /* jupyter's `normalize.less` sets `[hidden] { display: none; }`\n",
       "     but bootstrap.min.css set `[hidden] { display: none !important; }`\n",
       "     so we also need the `!important` here to be able to override the\n",
       "     default hidden behavior on the sphinx rendered scikit-learn.org.\n",
       "     See: https://github.com/scikit-learn/scikit-learn/issues/21755 */\n",
       "  display: inline-block !important;\n",
       "  position: relative;\n",
       "}\n",
       "\n",
       "#sk-container-id-1 div.sk-text-repr-fallback {\n",
       "  display: none;\n",
       "}\n",
       "\n",
       "div.sk-parallel-item,\n",
       "div.sk-serial,\n",
       "div.sk-item {\n",
       "  /* draw centered vertical line to link estimators */\n",
       "  background-image: linear-gradient(var(--sklearn-color-text-on-default-background), var(--sklearn-color-text-on-default-background));\n",
       "  background-size: 2px 100%;\n",
       "  background-repeat: no-repeat;\n",
       "  background-position: center center;\n",
       "}\n",
       "\n",
       "/* Parallel-specific style estimator block */\n",
       "\n",
       "#sk-container-id-1 div.sk-parallel-item::after {\n",
       "  content: \"\";\n",
       "  width: 100%;\n",
       "  border-bottom: 2px solid var(--sklearn-color-text-on-default-background);\n",
       "  flex-grow: 1;\n",
       "}\n",
       "\n",
       "#sk-container-id-1 div.sk-parallel {\n",
       "  display: flex;\n",
       "  align-items: stretch;\n",
       "  justify-content: center;\n",
       "  background-color: var(--sklearn-color-background);\n",
       "  position: relative;\n",
       "}\n",
       "\n",
       "#sk-container-id-1 div.sk-parallel-item {\n",
       "  display: flex;\n",
       "  flex-direction: column;\n",
       "}\n",
       "\n",
       "#sk-container-id-1 div.sk-parallel-item:first-child::after {\n",
       "  align-self: flex-end;\n",
       "  width: 50%;\n",
       "}\n",
       "\n",
       "#sk-container-id-1 div.sk-parallel-item:last-child::after {\n",
       "  align-self: flex-start;\n",
       "  width: 50%;\n",
       "}\n",
       "\n",
       "#sk-container-id-1 div.sk-parallel-item:only-child::after {\n",
       "  width: 0;\n",
       "}\n",
       "\n",
       "/* Serial-specific style estimator block */\n",
       "\n",
       "#sk-container-id-1 div.sk-serial {\n",
       "  display: flex;\n",
       "  flex-direction: column;\n",
       "  align-items: center;\n",
       "  background-color: var(--sklearn-color-background);\n",
       "  padding-right: 1em;\n",
       "  padding-left: 1em;\n",
       "}\n",
       "\n",
       "\n",
       "/* Toggleable style: style used for estimator/Pipeline/ColumnTransformer box that is\n",
       "clickable and can be expanded/collapsed.\n",
       "- Pipeline and ColumnTransformer use this feature and define the default style\n",
       "- Estimators will overwrite some part of the style using the `sk-estimator` class\n",
       "*/\n",
       "\n",
       "/* Pipeline and ColumnTransformer style (default) */\n",
       "\n",
       "#sk-container-id-1 div.sk-toggleable {\n",
       "  /* Default theme specific background. It is overwritten whether we have a\n",
       "  specific estimator or a Pipeline/ColumnTransformer */\n",
       "  background-color: var(--sklearn-color-background);\n",
       "}\n",
       "\n",
       "/* Toggleable label */\n",
       "#sk-container-id-1 label.sk-toggleable__label {\n",
       "  cursor: pointer;\n",
       "  display: block;\n",
       "  width: 100%;\n",
       "  margin-bottom: 0;\n",
       "  padding: 0.5em;\n",
       "  box-sizing: border-box;\n",
       "  text-align: center;\n",
       "}\n",
       "\n",
       "#sk-container-id-1 label.sk-toggleable__label-arrow:before {\n",
       "  /* Arrow on the left of the label */\n",
       "  content: \"▸\";\n",
       "  float: left;\n",
       "  margin-right: 0.25em;\n",
       "  color: var(--sklearn-color-icon);\n",
       "}\n",
       "\n",
       "#sk-container-id-1 label.sk-toggleable__label-arrow:hover:before {\n",
       "  color: var(--sklearn-color-text);\n",
       "}\n",
       "\n",
       "/* Toggleable content - dropdown */\n",
       "\n",
       "#sk-container-id-1 div.sk-toggleable__content {\n",
       "  max-height: 0;\n",
       "  max-width: 0;\n",
       "  overflow: hidden;\n",
       "  text-align: left;\n",
       "  /* unfitted */\n",
       "  background-color: var(--sklearn-color-unfitted-level-0);\n",
       "}\n",
       "\n",
       "#sk-container-id-1 div.sk-toggleable__content.fitted {\n",
       "  /* fitted */\n",
       "  background-color: var(--sklearn-color-fitted-level-0);\n",
       "}\n",
       "\n",
       "#sk-container-id-1 div.sk-toggleable__content pre {\n",
       "  margin: 0.2em;\n",
       "  border-radius: 0.25em;\n",
       "  color: var(--sklearn-color-text);\n",
       "  /* unfitted */\n",
       "  background-color: var(--sklearn-color-unfitted-level-0);\n",
       "}\n",
       "\n",
       "#sk-container-id-1 div.sk-toggleable__content.fitted pre {\n",
       "  /* unfitted */\n",
       "  background-color: var(--sklearn-color-fitted-level-0);\n",
       "}\n",
       "\n",
       "#sk-container-id-1 input.sk-toggleable__control:checked~div.sk-toggleable__content {\n",
       "  /* Expand drop-down */\n",
       "  max-height: 200px;\n",
       "  max-width: 100%;\n",
       "  overflow: auto;\n",
       "}\n",
       "\n",
       "#sk-container-id-1 input.sk-toggleable__control:checked~label.sk-toggleable__label-arrow:before {\n",
       "  content: \"▾\";\n",
       "}\n",
       "\n",
       "/* Pipeline/ColumnTransformer-specific style */\n",
       "\n",
       "#sk-container-id-1 div.sk-label input.sk-toggleable__control:checked~label.sk-toggleable__label {\n",
       "  color: var(--sklearn-color-text);\n",
       "  background-color: var(--sklearn-color-unfitted-level-2);\n",
       "}\n",
       "\n",
       "#sk-container-id-1 div.sk-label.fitted input.sk-toggleable__control:checked~label.sk-toggleable__label {\n",
       "  background-color: var(--sklearn-color-fitted-level-2);\n",
       "}\n",
       "\n",
       "/* Estimator-specific style */\n",
       "\n",
       "/* Colorize estimator box */\n",
       "#sk-container-id-1 div.sk-estimator input.sk-toggleable__control:checked~label.sk-toggleable__label {\n",
       "  /* unfitted */\n",
       "  background-color: var(--sklearn-color-unfitted-level-2);\n",
       "}\n",
       "\n",
       "#sk-container-id-1 div.sk-estimator.fitted input.sk-toggleable__control:checked~label.sk-toggleable__label {\n",
       "  /* fitted */\n",
       "  background-color: var(--sklearn-color-fitted-level-2);\n",
       "}\n",
       "\n",
       "#sk-container-id-1 div.sk-label label.sk-toggleable__label,\n",
       "#sk-container-id-1 div.sk-label label {\n",
       "  /* The background is the default theme color */\n",
       "  color: var(--sklearn-color-text-on-default-background);\n",
       "}\n",
       "\n",
       "/* On hover, darken the color of the background */\n",
       "#sk-container-id-1 div.sk-label:hover label.sk-toggleable__label {\n",
       "  color: var(--sklearn-color-text);\n",
       "  background-color: var(--sklearn-color-unfitted-level-2);\n",
       "}\n",
       "\n",
       "/* Label box, darken color on hover, fitted */\n",
       "#sk-container-id-1 div.sk-label.fitted:hover label.sk-toggleable__label.fitted {\n",
       "  color: var(--sklearn-color-text);\n",
       "  background-color: var(--sklearn-color-fitted-level-2);\n",
       "}\n",
       "\n",
       "/* Estimator label */\n",
       "\n",
       "#sk-container-id-1 div.sk-label label {\n",
       "  font-family: monospace;\n",
       "  font-weight: bold;\n",
       "  display: inline-block;\n",
       "  line-height: 1.2em;\n",
       "}\n",
       "\n",
       "#sk-container-id-1 div.sk-label-container {\n",
       "  text-align: center;\n",
       "}\n",
       "\n",
       "/* Estimator-specific */\n",
       "#sk-container-id-1 div.sk-estimator {\n",
       "  font-family: monospace;\n",
       "  border: 1px dotted var(--sklearn-color-border-box);\n",
       "  border-radius: 0.25em;\n",
       "  box-sizing: border-box;\n",
       "  margin-bottom: 0.5em;\n",
       "  /* unfitted */\n",
       "  background-color: var(--sklearn-color-unfitted-level-0);\n",
       "}\n",
       "\n",
       "#sk-container-id-1 div.sk-estimator.fitted {\n",
       "  /* fitted */\n",
       "  background-color: var(--sklearn-color-fitted-level-0);\n",
       "}\n",
       "\n",
       "/* on hover */\n",
       "#sk-container-id-1 div.sk-estimator:hover {\n",
       "  /* unfitted */\n",
       "  background-color: var(--sklearn-color-unfitted-level-2);\n",
       "}\n",
       "\n",
       "#sk-container-id-1 div.sk-estimator.fitted:hover {\n",
       "  /* fitted */\n",
       "  background-color: var(--sklearn-color-fitted-level-2);\n",
       "}\n",
       "\n",
       "/* Specification for estimator info (e.g. \"i\" and \"?\") */\n",
       "\n",
       "/* Common style for \"i\" and \"?\" */\n",
       "\n",
       ".sk-estimator-doc-link,\n",
       "a:link.sk-estimator-doc-link,\n",
       "a:visited.sk-estimator-doc-link {\n",
       "  float: right;\n",
       "  font-size: smaller;\n",
       "  line-height: 1em;\n",
       "  font-family: monospace;\n",
       "  background-color: var(--sklearn-color-background);\n",
       "  border-radius: 1em;\n",
       "  height: 1em;\n",
       "  width: 1em;\n",
       "  text-decoration: none !important;\n",
       "  margin-left: 1ex;\n",
       "  /* unfitted */\n",
       "  border: var(--sklearn-color-unfitted-level-1) 1pt solid;\n",
       "  color: var(--sklearn-color-unfitted-level-1);\n",
       "}\n",
       "\n",
       ".sk-estimator-doc-link.fitted,\n",
       "a:link.sk-estimator-doc-link.fitted,\n",
       "a:visited.sk-estimator-doc-link.fitted {\n",
       "  /* fitted */\n",
       "  border: var(--sklearn-color-fitted-level-1) 1pt solid;\n",
       "  color: var(--sklearn-color-fitted-level-1);\n",
       "}\n",
       "\n",
       "/* On hover */\n",
       "div.sk-estimator:hover .sk-estimator-doc-link:hover,\n",
       ".sk-estimator-doc-link:hover,\n",
       "div.sk-label-container:hover .sk-estimator-doc-link:hover,\n",
       ".sk-estimator-doc-link:hover {\n",
       "  /* unfitted */\n",
       "  background-color: var(--sklearn-color-unfitted-level-3);\n",
       "  color: var(--sklearn-color-background);\n",
       "  text-decoration: none;\n",
       "}\n",
       "\n",
       "div.sk-estimator.fitted:hover .sk-estimator-doc-link.fitted:hover,\n",
       ".sk-estimator-doc-link.fitted:hover,\n",
       "div.sk-label-container:hover .sk-estimator-doc-link.fitted:hover,\n",
       ".sk-estimator-doc-link.fitted:hover {\n",
       "  /* fitted */\n",
       "  background-color: var(--sklearn-color-fitted-level-3);\n",
       "  color: var(--sklearn-color-background);\n",
       "  text-decoration: none;\n",
       "}\n",
       "\n",
       "/* Span, style for the box shown on hovering the info icon */\n",
       ".sk-estimator-doc-link span {\n",
       "  display: none;\n",
       "  z-index: 9999;\n",
       "  position: relative;\n",
       "  font-weight: normal;\n",
       "  right: .2ex;\n",
       "  padding: .5ex;\n",
       "  margin: .5ex;\n",
       "  width: min-content;\n",
       "  min-width: 20ex;\n",
       "  max-width: 50ex;\n",
       "  color: var(--sklearn-color-text);\n",
       "  box-shadow: 2pt 2pt 4pt #999;\n",
       "  /* unfitted */\n",
       "  background: var(--sklearn-color-unfitted-level-0);\n",
       "  border: .5pt solid var(--sklearn-color-unfitted-level-3);\n",
       "}\n",
       "\n",
       ".sk-estimator-doc-link.fitted span {\n",
       "  /* fitted */\n",
       "  background: var(--sklearn-color-fitted-level-0);\n",
       "  border: var(--sklearn-color-fitted-level-3);\n",
       "}\n",
       "\n",
       ".sk-estimator-doc-link:hover span {\n",
       "  display: block;\n",
       "}\n",
       "\n",
       "/* \"?\"-specific style due to the `<a>` HTML tag */\n",
       "\n",
       "#sk-container-id-1 a.estimator_doc_link {\n",
       "  float: right;\n",
       "  font-size: 1rem;\n",
       "  line-height: 1em;\n",
       "  font-family: monospace;\n",
       "  background-color: var(--sklearn-color-background);\n",
       "  border-radius: 1rem;\n",
       "  height: 1rem;\n",
       "  width: 1rem;\n",
       "  text-decoration: none;\n",
       "  /* unfitted */\n",
       "  color: var(--sklearn-color-unfitted-level-1);\n",
       "  border: var(--sklearn-color-unfitted-level-1) 1pt solid;\n",
       "}\n",
       "\n",
       "#sk-container-id-1 a.estimator_doc_link.fitted {\n",
       "  /* fitted */\n",
       "  border: var(--sklearn-color-fitted-level-1) 1pt solid;\n",
       "  color: var(--sklearn-color-fitted-level-1);\n",
       "}\n",
       "\n",
       "/* On hover */\n",
       "#sk-container-id-1 a.estimator_doc_link:hover {\n",
       "  /* unfitted */\n",
       "  background-color: var(--sklearn-color-unfitted-level-3);\n",
       "  color: var(--sklearn-color-background);\n",
       "  text-decoration: none;\n",
       "}\n",
       "\n",
       "#sk-container-id-1 a.estimator_doc_link.fitted:hover {\n",
       "  /* fitted */\n",
       "  background-color: var(--sklearn-color-fitted-level-3);\n",
       "}\n",
       "</style><div id=\"sk-container-id-1\" class=\"sk-top-container\"><div class=\"sk-text-repr-fallback\"><pre>NearestNeighbors(algorithm=&#x27;brute&#x27;, metric=&#x27;cosine&#x27;)</pre><b>In a Jupyter environment, please rerun this cell to show the HTML representation or trust the notebook. <br />On GitHub, the HTML representation is unable to render, please try loading this page with nbviewer.org.</b></div><div class=\"sk-container\" hidden><div class=\"sk-item\"><div class=\"sk-estimator fitted sk-toggleable\"><input class=\"sk-toggleable__control sk-hidden--visually\" id=\"sk-estimator-id-1\" type=\"checkbox\" checked><label for=\"sk-estimator-id-1\" class=\"sk-toggleable__label fitted sk-toggleable__label-arrow fitted\">&nbsp;&nbsp;NearestNeighbors<a class=\"sk-estimator-doc-link fitted\" rel=\"noreferrer\" target=\"_blank\" href=\"https://scikit-learn.org/1.5/modules/generated/sklearn.neighbors.NearestNeighbors.html\">?<span>Documentation for NearestNeighbors</span></a><span class=\"sk-estimator-doc-link fitted\">i<span>Fitted</span></span></label><div class=\"sk-toggleable__content fitted\"><pre>NearestNeighbors(algorithm=&#x27;brute&#x27;, metric=&#x27;cosine&#x27;)</pre></div> </div></div></div></div>"
      ],
      "text/plain": [
       "NearestNeighbors(algorithm='brute', metric='cosine')"
      ]
     },
     "execution_count": 25,
     "metadata": {},
     "output_type": "execute_result"
    }
   ],
   "source": [
    "model_knn = NearestNeighbors(metric='cosine', algorithm='brute')\n",
    "model_knn.fit(matrix)"
   ]
  },
  {
   "cell_type": "markdown",
   "id": "7a4c2f8f",
   "metadata": {},
   "source": [
    "# sum tests "
   ]
  },
  {
   "cell_type": "code",
   "execution_count": 47,
   "id": "9c661d6b",
   "metadata": {},
   "outputs": [
    {
     "name": "stdout",
     "output_type": "stream",
     "text": [
      "Query index: 669\n"
     ]
    }
   ],
   "source": [
    "query_index = np.random.choice(train_matrix.shape[0])\n",
    "print(\"Query index:\", query_index)\n",
    "\n"
   ]
  },
  {
   "cell_type": "code",
   "execution_count": 48,
   "id": "ab6a262f",
   "metadata": {},
   "outputs": [
    {
     "data": {
      "text/plain": [
       "array([[0., 0., 0., ..., 0., 0., 0.]])"
      ]
     },
     "execution_count": 48,
     "metadata": {},
     "output_type": "execute_result"
    }
   ],
   "source": [
    "train_matrix[train_matrix.index==553279378].values.reshape(1, -1)"
   ]
  },
  {
   "cell_type": "code",
   "execution_count": null,
   "id": "b806c78c",
   "metadata": {},
   "outputs": [],
   "source": []
  },
  {
   "cell_type": "code",
   "execution_count": 49,
   "id": "8365bbed",
   "metadata": {},
   "outputs": [],
   "source": [
    "distances, indices = model_knn.kneighbors(train_matrix.iloc[query_index, :].values.reshape(1, -1), n_neighbors=6)\n",
    "\n"
   ]
  },
  {
   "cell_type": "code",
   "execution_count": 19,
   "id": "4ed84519",
   "metadata": {},
   "outputs": [
    {
     "data": {
      "text/plain": [
       "array([[2607, 2613, 2585, 2588, 2609, 2604]], dtype=int64)"
      ]
     },
     "execution_count": 19,
     "metadata": {},
     "output_type": "execute_result"
    }
   ],
   "source": [
    "# distances\n",
    "indices"
   ]
  },
  {
   "cell_type": "code",
   "execution_count": 57,
   "id": "da2d378c",
   "metadata": {},
   "outputs": [
    {
     "data": {
      "text/plain": [
       "304"
      ]
     },
     "execution_count": 57,
     "metadata": {},
     "output_type": "execute_result"
    }
   ],
   "source": [
    "indices.flatten()[3]"
   ]
  },
  {
   "cell_type": "code",
   "execution_count": null,
   "id": "a8890916",
   "metadata": {},
   "outputs": [
    {
     "data": {
      "text/plain": [
       "452260116"
      ]
     },
     "execution_count": 65,
     "metadata": {},
     "output_type": "execute_result"
    }
   ],
   "source": []
  },
  {
   "cell_type": "code",
   "execution_count": 64,
   "id": "bfee76ef",
   "metadata": {},
   "outputs": [
    {
     "name": "stdout",
     "output_type": "stream",
     "text": [
      "Recommendations for who love book   = 374270325\n",
      "#######################\n",
      "(1): 393317552, with distance: 0.7002\n",
      "(2): 140077022, with distance: 0.7160\n",
      "(3): 440931800, with distance: 0.7226\n",
      "(4): 670891576, with distance: 0.7307\n",
      "(5): 451166604, with distance: 0.7411\n"
     ]
    }
   ],
   "source": [
    "train_matrix.index[query_index]\n",
    "print('Recommendations for who love book   = {0}'.format(train_matrix.index[query_index]))\n",
    "print('#######################')\n",
    "isbn_book_recom=[]\n",
    "for i in range(1, len(distances.flatten())):\n",
    "    print(f\"({i}): {train_matrix.index[indices.flatten()[i]]}, with distance: {distances.flatten()[i]:.4f}\") \n",
    "    isbn_book_recom.append(train_matrix.index[indices.flatten()[i]])\n",
    "   \n"
   ]
  },
  {
   "cell_type": "code",
   "execution_count": 65,
   "id": "cf5619b5",
   "metadata": {},
   "outputs": [
    {
     "data": {
      "text/plain": [
       "[393317552, 140077022, 440931800, 670891576, 451166604]"
      ]
     },
     "execution_count": 65,
     "metadata": {},
     "output_type": "execute_result"
    }
   ],
   "source": [
    "isbn_book_recom"
   ]
  },
  {
   "cell_type": "code",
   "execution_count": 60,
   "id": "360d5d3d",
   "metadata": {},
   "outputs": [
    {
     "data": {
      "text/plain": [
       "array(['Once a Thief'], dtype=object)"
      ]
     },
     "execution_count": 60,
     "metadata": {},
     "output_type": "execute_result"
    }
   ],
   "source": [
    "books.loc[books['ISBN'] == 553585118 ,'Book-Title'].values"
   ]
  },
  {
   "cell_type": "code",
   "execution_count": 61,
   "id": "b467ebea",
   "metadata": {},
   "outputs": [],
   "source": [
    "book_titles = []\n",
    "for isbn in isbn_book_recom :\n",
    "    title = books.loc[books['ISBN'] == isbn,'Book-Title'].values\n",
    "    book_titles.append(title)"
   ]
  },
  {
   "cell_type": "code",
   "execution_count": 62,
   "id": "bf5f3c51",
   "metadata": {},
   "outputs": [
    {
     "data": {
      "text/plain": [
       "[array(['Wide Sargasso Sea (Norton Paperback Fiction)'], dtype=object),\n",
       " array(['The Life and Loves of a She-Devil'], dtype=object),\n",
       " array([\"The Samurai's Garden : A Novel\"], dtype=object),\n",
       " array(['Invisible Man'], dtype=object),\n",
       " array(['The Bluest Eye'], dtype=object)]"
      ]
     },
     "execution_count": 62,
     "metadata": {},
     "output_type": "execute_result"
    }
   ],
   "source": [
    "book_titles"
   ]
  },
  {
   "cell_type": "code",
   "execution_count": 77,
   "id": "7c7b39af",
   "metadata": {},
   "outputs": [],
   "source": [
    "recomended_books=books[books['ISBN'].isin(isbn_book_recom)]"
   ]
  },
  {
   "cell_type": "code",
   "execution_count": 78,
   "id": "9e20569f",
   "metadata": {},
   "outputs": [
    {
     "data": {
      "text/html": [
       "<div>\n",
       "<style scoped>\n",
       "    .dataframe tbody tr th:only-of-type {\n",
       "        vertical-align: middle;\n",
       "    }\n",
       "\n",
       "    .dataframe tbody tr th {\n",
       "        vertical-align: top;\n",
       "    }\n",
       "\n",
       "    .dataframe thead th {\n",
       "        text-align: right;\n",
       "    }\n",
       "</style>\n",
       "<table border=\"1\" class=\"dataframe\">\n",
       "  <thead>\n",
       "    <tr style=\"text-align: right;\">\n",
       "      <th></th>\n",
       "      <th>ISBN</th>\n",
       "      <th>Book-Title</th>\n",
       "      <th>Book-Author</th>\n",
       "      <th>Year-Of-Publication</th>\n",
       "      <th>Publisher</th>\n",
       "      <th>Image-URL-S</th>\n",
       "      <th>Image-URL-M</th>\n",
       "      <th>Image-URL-L</th>\n",
       "    </tr>\n",
       "  </thead>\n",
       "  <tbody>\n",
       "    <tr>\n",
       "      <th>2545</th>\n",
       "      <td>671744216</td>\n",
       "      <td>The Secret</td>\n",
       "      <td>Julie Garwood</td>\n",
       "      <td>1992</td>\n",
       "      <td>Pocket</td>\n",
       "      <td>http://images.amazon.com/images/P/0671744216.0...</td>\n",
       "      <td>http://images.amazon.com/images/P/0671744216.0...</td>\n",
       "      <td>http://images.amazon.com/images/P/0671744216.0...</td>\n",
       "    </tr>\n",
       "    <tr>\n",
       "      <th>2587</th>\n",
       "      <td>553293257</td>\n",
       "      <td>Rendezvous</td>\n",
       "      <td>Amanda Quick</td>\n",
       "      <td>1991</td>\n",
       "      <td>Bantam</td>\n",
       "      <td>http://images.amazon.com/images/P/0553293257.0...</td>\n",
       "      <td>http://images.amazon.com/images/P/0553293257.0...</td>\n",
       "      <td>http://images.amazon.com/images/P/0553293257.0...</td>\n",
       "    </tr>\n",
       "    <tr>\n",
       "      <th>2621</th>\n",
       "      <td>671744208</td>\n",
       "      <td>Castles</td>\n",
       "      <td>Julie Garwood</td>\n",
       "      <td>1993</td>\n",
       "      <td>Pocket</td>\n",
       "      <td>http://images.amazon.com/images/P/0671744208.0...</td>\n",
       "      <td>http://images.amazon.com/images/P/0671744208.0...</td>\n",
       "      <td>http://images.amazon.com/images/P/0671744208.0...</td>\n",
       "    </tr>\n",
       "    <tr>\n",
       "      <th>2668</th>\n",
       "      <td>425168131</td>\n",
       "      <td>Conspiracy in Death</td>\n",
       "      <td>J. D. Robb</td>\n",
       "      <td>2003</td>\n",
       "      <td>Berkley Publishing Group</td>\n",
       "      <td>http://images.amazon.com/images/P/0425168131.0...</td>\n",
       "      <td>http://images.amazon.com/images/P/0425168131.0...</td>\n",
       "      <td>http://images.amazon.com/images/P/0425168131.0...</td>\n",
       "    </tr>\n",
       "    <tr>\n",
       "      <th>2797</th>\n",
       "      <td>671737805</td>\n",
       "      <td>Gentle Warrior</td>\n",
       "      <td>Julie Garwood</td>\n",
       "      <td>1990</td>\n",
       "      <td>Pocket</td>\n",
       "      <td>http://images.amazon.com/images/P/0671737805.0...</td>\n",
       "      <td>http://images.amazon.com/images/P/0671737805.0...</td>\n",
       "      <td>http://images.amazon.com/images/P/0671737805.0...</td>\n",
       "    </tr>\n",
       "  </tbody>\n",
       "</table>\n",
       "</div>"
      ],
      "text/plain": [
       "           ISBN           Book-Title    Book-Author  Year-Of-Publication  \\\n",
       "2545  671744216           The Secret  Julie Garwood                 1992   \n",
       "2587  553293257           Rendezvous   Amanda Quick                 1991   \n",
       "2621  671744208              Castles  Julie Garwood                 1993   \n",
       "2668  425168131  Conspiracy in Death     J. D. Robb                 2003   \n",
       "2797  671737805       Gentle Warrior  Julie Garwood                 1990   \n",
       "\n",
       "                     Publisher  \\\n",
       "2545                    Pocket   \n",
       "2587                    Bantam   \n",
       "2621                    Pocket   \n",
       "2668  Berkley Publishing Group   \n",
       "2797                    Pocket   \n",
       "\n",
       "                                            Image-URL-S  \\\n",
       "2545  http://images.amazon.com/images/P/0671744216.0...   \n",
       "2587  http://images.amazon.com/images/P/0553293257.0...   \n",
       "2621  http://images.amazon.com/images/P/0671744208.0...   \n",
       "2668  http://images.amazon.com/images/P/0425168131.0...   \n",
       "2797  http://images.amazon.com/images/P/0671737805.0...   \n",
       "\n",
       "                                            Image-URL-M  \\\n",
       "2545  http://images.amazon.com/images/P/0671744216.0...   \n",
       "2587  http://images.amazon.com/images/P/0553293257.0...   \n",
       "2621  http://images.amazon.com/images/P/0671744208.0...   \n",
       "2668  http://images.amazon.com/images/P/0425168131.0...   \n",
       "2797  http://images.amazon.com/images/P/0671737805.0...   \n",
       "\n",
       "                                            Image-URL-L  \n",
       "2545  http://images.amazon.com/images/P/0671744216.0...  \n",
       "2587  http://images.amazon.com/images/P/0553293257.0...  \n",
       "2621  http://images.amazon.com/images/P/0671744208.0...  \n",
       "2668  http://images.amazon.com/images/P/0425168131.0...  \n",
       "2797  http://images.amazon.com/images/P/0671737805.0...  "
      ]
     },
     "execution_count": 78,
     "metadata": {},
     "output_type": "execute_result"
    }
   ],
   "source": [
    "recomended_books"
   ]
  },
  {
   "cell_type": "markdown",
   "id": "363609c5",
   "metadata": {},
   "source": [
    "# the get_recommendations"
   ]
  },
  {
   "cell_type": "code",
   "execution_count": 27,
   "id": "7657d6c3",
   "metadata": {},
   "outputs": [],
   "source": [
    "def get_recommendations(rating_matrix=train_matrix,isbn=0,k=6):\n",
    "    distances, indices = model_knn.kneighbors(rating_matrix[train_matrix.index==isbn].values.reshape(1, -1), n_neighbors=k)\n",
    "    isbn_book_recom=[]\n",
    "    for i in range(1, len(distances.flatten())):\n",
    "        # to get its distance\n",
    "    #  isbn_book_recom.append([train_matrix.index[indices.flatten()[i]],distances.flatten()[i]])\n",
    "        isbn_book_recom.append(train_matrix.index[indices.flatten()[i]])\n",
    "    recomended_books=books[books['ISBN'].isin(isbn_book_recom)]\n",
    "    return recomended_books"
   ]
  },
  {
   "cell_type": "code",
   "execution_count": 51,
   "id": "4149a6d3",
   "metadata": {},
   "outputs": [
    {
     "data": {
      "text/html": [
       "<div>\n",
       "<style scoped>\n",
       "    .dataframe tbody tr th:only-of-type {\n",
       "        vertical-align: middle;\n",
       "    }\n",
       "\n",
       "    .dataframe tbody tr th {\n",
       "        vertical-align: top;\n",
       "    }\n",
       "\n",
       "    .dataframe thead th {\n",
       "        text-align: right;\n",
       "    }\n",
       "</style>\n",
       "<table border=\"1\" class=\"dataframe\">\n",
       "  <thead>\n",
       "    <tr style=\"text-align: right;\">\n",
       "      <th></th>\n",
       "      <th>ISBN</th>\n",
       "      <th>Book-Title</th>\n",
       "      <th>Book-Author</th>\n",
       "      <th>Year-Of-Publication</th>\n",
       "      <th>Publisher</th>\n",
       "      <th>Image-URL-S</th>\n",
       "      <th>Image-URL-M</th>\n",
       "      <th>Image-URL-L</th>\n",
       "    </tr>\n",
       "  </thead>\n",
       "  <tbody>\n",
       "    <tr>\n",
       "      <th>1235</th>\n",
       "      <td>451191137</td>\n",
       "      <td>Anthem</td>\n",
       "      <td>Ayn Rand</td>\n",
       "      <td>1996</td>\n",
       "      <td>Signet Book</td>\n",
       "      <td>http://images.amazon.com/images/P/0451191137.0...</td>\n",
       "      <td>http://images.amazon.com/images/P/0451191137.0...</td>\n",
       "      <td>http://images.amazon.com/images/P/0451191137.0...</td>\n",
       "    </tr>\n",
       "    <tr>\n",
       "      <th>1810</th>\n",
       "      <td>312955006</td>\n",
       "      <td>The Concrete Blonde (A Harry Bosch Novel)</td>\n",
       "      <td>Michael Connelly</td>\n",
       "      <td>1995</td>\n",
       "      <td>St. Martin's Paperbacks</td>\n",
       "      <td>http://images.amazon.com/images/P/0312955006.0...</td>\n",
       "      <td>http://images.amazon.com/images/P/0312955006.0...</td>\n",
       "      <td>http://images.amazon.com/images/P/0312955006.0...</td>\n",
       "    </tr>\n",
       "    <tr>\n",
       "      <th>1865</th>\n",
       "      <td>671867091</td>\n",
       "      <td>Remember Me</td>\n",
       "      <td>Mary Higgins Clark</td>\n",
       "      <td>1995</td>\n",
       "      <td>Pocket</td>\n",
       "      <td>http://images.amazon.com/images/P/0671867091.0...</td>\n",
       "      <td>http://images.amazon.com/images/P/0671867091.0...</td>\n",
       "      <td>http://images.amazon.com/images/P/0671867091.0...</td>\n",
       "    </tr>\n",
       "    <tr>\n",
       "      <th>2372</th>\n",
       "      <td>440224810</td>\n",
       "      <td>Special Delivery: A Novel</td>\n",
       "      <td>Danielle Steel</td>\n",
       "      <td>1998</td>\n",
       "      <td>Dell Publishing Company</td>\n",
       "      <td>http://images.amazon.com/images/P/0440224810.0...</td>\n",
       "      <td>http://images.amazon.com/images/P/0440224810.0...</td>\n",
       "      <td>http://images.amazon.com/images/P/0440224810.0...</td>\n",
       "    </tr>\n",
       "    <tr>\n",
       "      <th>2518</th>\n",
       "      <td>515120871</td>\n",
       "      <td>Finding the Dream</td>\n",
       "      <td>Nora Roberts</td>\n",
       "      <td>1997</td>\n",
       "      <td>Jove Books</td>\n",
       "      <td>http://images.amazon.com/images/P/0515120871.0...</td>\n",
       "      <td>http://images.amazon.com/images/P/0515120871.0...</td>\n",
       "      <td>http://images.amazon.com/images/P/0515120871.0...</td>\n",
       "    </tr>\n",
       "  </tbody>\n",
       "</table>\n",
       "</div>"
      ],
      "text/plain": [
       "           ISBN                                 Book-Title  \\\n",
       "1235  451191137                                     Anthem   \n",
       "1810  312955006  The Concrete Blonde (A Harry Bosch Novel)   \n",
       "1865  671867091                                Remember Me   \n",
       "2372  440224810                  Special Delivery: A Novel   \n",
       "2518  515120871                          Finding the Dream   \n",
       "\n",
       "             Book-Author  Year-Of-Publication                Publisher  \\\n",
       "1235            Ayn Rand                 1996              Signet Book   \n",
       "1810    Michael Connelly                 1995  St. Martin's Paperbacks   \n",
       "1865  Mary Higgins Clark                 1995                   Pocket   \n",
       "2372      Danielle Steel                 1998  Dell Publishing Company   \n",
       "2518        Nora Roberts                 1997               Jove Books   \n",
       "\n",
       "                                            Image-URL-S  \\\n",
       "1235  http://images.amazon.com/images/P/0451191137.0...   \n",
       "1810  http://images.amazon.com/images/P/0312955006.0...   \n",
       "1865  http://images.amazon.com/images/P/0671867091.0...   \n",
       "2372  http://images.amazon.com/images/P/0440224810.0...   \n",
       "2518  http://images.amazon.com/images/P/0515120871.0...   \n",
       "\n",
       "                                            Image-URL-M  \\\n",
       "1235  http://images.amazon.com/images/P/0451191137.0...   \n",
       "1810  http://images.amazon.com/images/P/0312955006.0...   \n",
       "1865  http://images.amazon.com/images/P/0671867091.0...   \n",
       "2372  http://images.amazon.com/images/P/0440224810.0...   \n",
       "2518  http://images.amazon.com/images/P/0515120871.0...   \n",
       "\n",
       "                                            Image-URL-L  \n",
       "1235  http://images.amazon.com/images/P/0451191137.0...  \n",
       "1810  http://images.amazon.com/images/P/0312955006.0...  \n",
       "1865  http://images.amazon.com/images/P/0671867091.0...  \n",
       "2372  http://images.amazon.com/images/P/0440224810.0...  \n",
       "2518  http://images.amazon.com/images/P/0515120871.0...  "
      ]
     },
     "execution_count": 51,
     "metadata": {},
     "output_type": "execute_result"
    }
   ],
   "source": [
    "get_recommendations(isbn=553279378)"
   ]
  },
  {
   "cell_type": "markdown",
   "id": "b389118c",
   "metadata": {},
   "source": [
    "# **EVALUATION**\n",
    "\n",
    "# 1- precision"
   ]
  },
  {
   "cell_type": "code",
   "execution_count": null,
   "id": "117cca7c",
   "metadata": {},
   "outputs": [],
   "source": [
    "def precision_at_k(recommended, actual, k=5):\n",
    "    recommended_at_k = recommended[:k]\n",
    "    relevant_set = set(actual)\n",
    "    correct = sum([1 for book in recommended_at_k if book in relevant_set])\n",
    "    return correct / k"
   ]
  },
  {
   "cell_type": "code",
   "execution_count": 52,
   "id": "ba4d97c8",
   "metadata": {},
   "outputs": [
    {
     "data": {
      "text/html": [
       "<div>\n",
       "<style scoped>\n",
       "    .dataframe tbody tr th:only-of-type {\n",
       "        vertical-align: middle;\n",
       "    }\n",
       "\n",
       "    .dataframe tbody tr th {\n",
       "        vertical-align: top;\n",
       "    }\n",
       "\n",
       "    .dataframe thead th {\n",
       "        text-align: right;\n",
       "    }\n",
       "</style>\n",
       "<table border=\"1\" class=\"dataframe\">\n",
       "  <thead>\n",
       "    <tr style=\"text-align: right;\">\n",
       "      <th></th>\n",
       "      <th>User-ID</th>\n",
       "      <th>ISBN</th>\n",
       "      <th>Book-Rating</th>\n",
       "    </tr>\n",
       "  </thead>\n",
       "  <tbody>\n",
       "    <tr>\n",
       "      <th>21142</th>\n",
       "      <td>101876</td>\n",
       "      <td>142001325</td>\n",
       "      <td>10.0</td>\n",
       "    </tr>\n",
       "    <tr>\n",
       "      <th>20998</th>\n",
       "      <td>101305</td>\n",
       "      <td>375705856</td>\n",
       "      <td>8.0</td>\n",
       "    </tr>\n",
       "    <tr>\n",
       "      <th>54251</th>\n",
       "      <td>268030</td>\n",
       "      <td>385504209</td>\n",
       "      <td>8.0</td>\n",
       "    </tr>\n",
       "    <tr>\n",
       "      <th>43176</th>\n",
       "      <td>213760</td>\n",
       "      <td>61057363</td>\n",
       "      <td>7.0</td>\n",
       "    </tr>\n",
       "    <tr>\n",
       "      <th>33269</th>\n",
       "      <td>160819</td>\n",
       "      <td>345445848</td>\n",
       "      <td>7.0</td>\n",
       "    </tr>\n",
       "  </tbody>\n",
       "</table>\n",
       "</div>"
      ],
      "text/plain": [
       "       User-ID       ISBN  Book-Rating\n",
       "21142   101876  142001325         10.0\n",
       "20998   101305  375705856          8.0\n",
       "54251   268030  385504209          8.0\n",
       "43176   213760   61057363          7.0\n",
       "33269   160819  345445848          7.0"
      ]
     },
     "execution_count": 52,
     "metadata": {},
     "output_type": "execute_result"
    }
   ],
   "source": [
    "test_data.head()"
   ]
  },
  {
   "cell_type": "code",
   "execution_count": 28,
   "id": "ee7925b3",
   "metadata": {},
   "outputs": [],
   "source": [
    "import numpy as np\n",
    "import pandas as pd\n",
    "from sklearn.neighbors import NearestNeighbors\n",
    "\n",
    "def get_recommendations(rating_matrix, isbn, model_knn, k=6):\n",
    "    \"\"\"\n",
    "    Finds K nearest books based on KNN collaborative filtering.\n",
    "\n",
    "    :param rating_matrix: User-item matrix (DataFrame)\n",
    "    :param isbn: Target book ISBN\n",
    "    :param model_knn: Trained KNN model\n",
    "    :param k: Number of nearest books to return\n",
    "    :return: List of recommended ISBNs\n",
    "    \"\"\"\n",
    "    # Find nearest neighbors\n",
    "    distances, indices = model_knn.kneighbors(rating_matrix.loc[isbn].values.reshape(1, -1), n_neighbors=k)\n",
    "\n",
    "    # Extract recommended books\n",
    "    isbn_book_recom = [rating_matrix.index[i] for i in indices.flatten()[1:]]  # Exclude first (self)\n",
    "\n",
    "    return isbn_book_recom\n"
   ]
  },
  {
   "cell_type": "markdown",
   "id": "792f16bf",
   "metadata": {},
   "source": [
    "# ## 1- precision\n"
   ]
  },
  {
   "cell_type": "code",
   "execution_count": 29,
   "id": "0bbc6ebd",
   "metadata": {},
   "outputs": [],
   "source": [
    "def precision_at_k(recommended, actual, k=5):\n",
    "    recommended_at_k = recommended[:k]\n",
    "    relevant_set = set(actual)\n",
    "    correct = sum(1 for book in recommended_at_k if book in relevant_set)\n",
    "    return correct / k\n"
   ]
  },
  {
   "cell_type": "markdown",
   "id": "d01e6838",
   "metadata": {},
   "source": [
    "# ## 2- Recall"
   ]
  },
  {
   "cell_type": "code",
   "execution_count": 31,
   "id": "41b3309b",
   "metadata": {},
   "outputs": [],
   "source": [
    "def recall_at_k(recommended, actual, k=5):\n",
    "    recommended_at_k = recommended[:k]\n",
    "    relevant_items = set(actual)\n",
    "    retrieved_relevant = len([book for book in recommended_at_k if book in relevant_items])\n",
    "    return retrieved_relevant / len(relevant_items) if relevant_items else 0\n"
   ]
  },
  {
   "cell_type": "code",
   "execution_count": 34,
   "id": "4876cdd5",
   "metadata": {},
   "outputs": [],
   "source": [
    "user_id = 153662\n",
    "liked_books = ratings[\n",
    "    (ratings['User-ID'] == user_id) &\n",
    "    (ratings['Book-Rating'] >= 7)\n",
    "]['ISBN'].tolist()\n",
    "\n",
    "input_isbn = liked_books[0]\n",
    "recommended_books = get_recommendations(train_matrix, input_isbn, model_knn, k=10)\n",
    "actual_books = liked_books[1:]\n",
    "\n",
    "# Compute evaluation metrics\n",
    "precision = precision_at_k(recommended_books, actual_books, k=7)\n",
    "recall = recall_at_k(recommended_books, actual_books, k=7)"
   ]
  },
  {
   "cell_type": "code",
   "execution_count": 35,
   "id": "0c52f0c2",
   "metadata": {},
   "outputs": [
    {
     "name": "stdout",
     "output_type": "stream",
     "text": [
      "Precision = 0.86\n",
      "Recall = 0.03\n"
     ]
    }
   ],
   "source": [
    "print(f\"Precision = {precision:.2f}\")\n",
    "print(f\"Recall = {recall:.2f}\")"
   ]
  },
  {
   "cell_type": "code",
   "execution_count": null,
   "id": "ab94136f",
   "metadata": {},
   "outputs": [],
   "source": [
    " "
   ]
  }
 ],
 "metadata": {
  "kernelspec": {
   "display_name": "base",
   "language": "python",
   "name": "python3"
  },
  "language_info": {
   "codemirror_mode": {
    "name": "ipython",
    "version": 3
   },
   "file_extension": ".py",
   "mimetype": "text/x-python",
   "name": "python",
   "nbconvert_exporter": "python",
   "pygments_lexer": "ipython3",
   "version": "3.11.7"
  }
 },
 "nbformat": 4,
 "nbformat_minor": 5
}
