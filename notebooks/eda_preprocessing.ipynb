{
 "cells": [
  {
   "metadata": {},
   "cell_type": "markdown",
   "source": "# Book Recommendation System – Data Cleaning & EDA\n",
   "id": "f5147cd180d54eb0"
  },
  {
   "metadata": {},
   "cell_type": "markdown",
   "source": [
    "## Imports and Setup\n",
    "# This section imports all necessary libraries and sets up the environment\n"
   ],
   "id": "8787854b9099400f"
  },
  {
   "metadata": {
    "ExecuteTime": {
     "end_time": "2025-05-08T17:13:56.755139Z",
     "start_time": "2025-05-08T17:13:56.695075Z"
    }
   },
   "cell_type": "code",
   "source": [
    "import pandas as pd  # For data manipulation and analysis\n",
    "import numpy as np  # For numerical operations\n",
    "import matplotlib.pyplot as plt  # For data visualization\n",
    "import seaborn as sns  # For enhanced data visualization\n",
    "import sys  # For system-specific parameters and functions\n",
    "from matplotlib.pyplot import loglog, xscale  # For log-scale plotting\n",
    "from scipy.sparse import csr_matrix  # For sparse matrix operations\n",
    "from scipy.sparse import save_npz  # For sparse matrix operations\n",
    "import json\n",
    "\n",
    "from recommender.collaborative_filtering import ratings\n",
    "from utils.preprocessing import *\n",
    "from utils.data_loader import *"
   ],
   "id": "6b9ae1cdaeec3917",
   "outputs": [],
   "execution_count": 178
  },
  {
   "metadata": {},
   "cell_type": "markdown",
   "source": [
    "## Load Data\n",
    "# Loading the three main datasets: books, users, and ratings\n"
   ],
   "id": "a70857f3e8ca5964"
  },
  {
   "metadata": {
    "ExecuteTime": {
     "end_time": "2025-05-08T17:14:00.064085Z",
     "start_time": "2025-05-08T17:13:56.771470Z"
    }
   },
   "cell_type": "code",
   "source": [
    "books_df = load_books()  # Load book metadata (title, author, etc.)\n",
    "users_df = load_users()  # Load user demographic data\n",
    "ratings_df = load_ratings()  # Load user-book rating data\n"
   ],
   "id": "d927af2feee78b53",
   "outputs": [],
   "execution_count": 179
  },
  {
   "metadata": {},
   "cell_type": "markdown",
   "source": [
    "## Initial Exploration – Shape and Data Types\n",
    "# Basic exploration of dataset shapes and data types to understand data structure\n"
   ],
   "id": "687dabd85327126f"
  },
  {
   "metadata": {
    "ExecuteTime": {
     "end_time": "2025-05-08T17:14:00.191432Z",
     "start_time": "2025-05-08T17:14:00.182826Z"
    }
   },
   "cell_type": "code",
   "source": [
    "print(books_df.shape)  # Print dimensions of books dataframe\n",
    "print(users_df.shape)  # Print dimensions of users dataframe\n",
    "print(ratings_df.shape)  # Print dimensions of ratings dataframe\n",
    "\n",
    "print(books_df.dtypes, \"\\n #########################\")  # Print data types of book columns\n",
    "print(users_df.dtypes, \"\\n #########################\")  # Print data types of user columns\n",
    "print(ratings_df.dtypes, \"\\n ########################\")  # Print data types of rating columns\n"
   ],
   "id": "412fafa8ec68f856",
   "outputs": [
    {
     "name": "stdout",
     "output_type": "stream",
     "text": [
      "(271360, 8)\n",
      "(278858, 3)\n",
      "(1149780, 3)\n",
      "ISBN                   object\n",
      "Book-Title             object\n",
      "Book-Author            object\n",
      "Year-Of-Publication    object\n",
      "Publisher              object\n",
      "Image-URL-S            object\n",
      "Image-URL-M            object\n",
      "Image-URL-L            object\n",
      "dtype: object \n",
      " #########################\n",
      "User-ID       int64\n",
      "Location     object\n",
      "Age         float64\n",
      "dtype: object \n",
      " #########################\n",
      "User-ID         int64\n",
      "ISBN           object\n",
      "Book-Rating     int64\n",
      "dtype: object \n",
      " ########################\n"
     ]
    }
   ],
   "execution_count": 180
  },
  {
   "metadata": {},
   "cell_type": "markdown",
   "source": [
    "## Check Unique Entries and Nulls\n",
    "# Checking for unique identifiers and null values to assess data quality\n"
   ],
   "id": "2801830f1210d25e"
  },
  {
   "metadata": {
    "ExecuteTime": {
     "end_time": "2025-05-08T17:14:00.728732Z",
     "start_time": "2025-05-08T17:14:00.221157Z"
    }
   },
   "cell_type": "code",
   "source": [
    "print(books_df[\"ISBN\"].nunique())  # Count unique book identifiers\n",
    "print(users_df[\"User-ID\"].nunique())  # Count unique user identifiers\n",
    "\n",
    "print(books_df.isnull().sum(), \"###################################\")  # Count nulls in books\n",
    "print(ratings_df.isnull().sum(), \"###################################\")  # Count nulls in ratings\n"
   ],
   "id": "ac23efee50b5d69a",
   "outputs": [
    {
     "name": "stdout",
     "output_type": "stream",
     "text": [
      "271360\n",
      "278858\n",
      "ISBN                   0\n",
      "Book-Title             0\n",
      "Book-Author            1\n",
      "Year-Of-Publication    0\n",
      "Publisher              2\n",
      "Image-URL-S            0\n",
      "Image-URL-M            0\n",
      "Image-URL-L            3\n",
      "dtype: int64 ###################################\n",
      "User-ID        0\n",
      "ISBN           0\n",
      "Book-Rating    0\n",
      "dtype: int64 ###################################\n"
     ]
    }
   ],
   "execution_count": 181
  },
  {
   "metadata": {},
   "cell_type": "markdown",
   "source": [
    "## Clean Ratings – Replace 0 with NaN and Drop\n",
    "# Cleaning the ratings by replacing 0 values (invalid) with NaN and dropping them\n"
   ],
   "id": "2c2be70e4e1d5b75"
  },
  {
   "metadata": {
    "ExecuteTime": {
     "end_time": "2025-05-08T17:14:00.931403Z",
     "start_time": "2025-05-08T17:14:00.757966Z"
    }
   },
   "cell_type": "code",
   "source": "ratings_df = clean_ratings(ratings_df)",
   "id": "c75aa0845eff3386",
   "outputs": [],
   "execution_count": 182
  },
  {
   "metadata": {},
   "cell_type": "markdown",
   "source": [
    "## Sanity Check – Invalid Ratings\n",
    "# Verifying there are no ratings outside the valid range (1-10)\n"
   ],
   "id": "325c70888e1329b6"
  },
  {
   "metadata": {
    "ExecuteTime": {
     "end_time": "2025-05-08T17:14:00.973701Z",
     "start_time": "2025-05-08T17:14:00.960468Z"
    }
   },
   "cell_type": "code",
   "source": [
    "print(ratings_df[ratings_df[\"Book-Rating\"] < 0])  # Check for negative ratings\n",
    "print(ratings_df[ratings_df[\"Book-Rating\"] > 10])  # Check for ratings above 10\n"
   ],
   "id": "e5d0e535ff8de15c",
   "outputs": [
    {
     "name": "stdout",
     "output_type": "stream",
     "text": [
      "Empty DataFrame\n",
      "Columns: [User-ID, ISBN, Book-Rating]\n",
      "Index: []\n",
      "Empty DataFrame\n",
      "Columns: [User-ID, ISBN, Book-Rating]\n",
      "Index: []\n"
     ]
    }
   ],
   "execution_count": 183
  },
  {
   "metadata": {},
   "cell_type": "markdown",
   "source": [
    "## Clean Book Table – Drop Nulls and Duplicates \n",
    "# Cleaning the books dataset by removing nulls and duplicate titles\n"
   ],
   "id": "ea0e1d4807c7c489"
  },
  {
   "metadata": {
    "ExecuteTime": {
     "end_time": "2025-05-08T17:14:01.448971Z",
     "start_time": "2025-05-08T17:14:00.999171Z"
    }
   },
   "cell_type": "code",
   "source": "books_df = clean_books(books_df)",
   "id": "82438c259fcd64a3",
   "outputs": [],
   "execution_count": 184
  },
  {
   "metadata": {},
   "cell_type": "markdown",
   "source": [
    "## Filter Ratings to Valid Books & Users\n",
    "# Ensuring all ratings reference valid books and users (referential integrity)\n"
   ],
   "id": "7557e2007ee82046"
  },
  {
   "metadata": {
    "ExecuteTime": {
     "end_time": "2025-05-08T17:14:01.686107Z",
     "start_time": "2025-05-08T17:14:01.473613Z"
    }
   },
   "cell_type": "code",
   "source": "ratings_df = filter_valid_ratings(ratings_df,books_df,users_df)",
   "id": "542f082c22717cd5",
   "outputs": [],
   "execution_count": 185
  },
  {
   "metadata": {},
   "cell_type": "markdown",
   "source": [
    "## EDA: Ratings Distribution\n",
    "# to Understand how ratings are distributed across the scale (1-10)\n",
    "# Insight: Shows if users tend to give higher/lower ratings, distribution patterns\n"
   ],
   "id": "dd304e7be65edc6"
  },
  {
   "metadata": {
    "ExecuteTime": {
     "end_time": "2025-05-08T17:14:02.111972Z",
     "start_time": "2025-05-08T17:14:01.713648Z"
    }
   },
   "cell_type": "code",
   "source": [
    "rating_value_counts = ratings_df[\"Book-Rating\"].value_counts().sort_index()  # Count ratings per value\n",
    "sns.barplot(x=rating_value_counts.index, y=rating_value_counts.values)  # Create bar plot\n",
    "plt.title(\"Distribution of Book Ratings\")  # Set title\n",
    "plt.xlabel(\"Rating (1–10)\")  # Set x-axis label\n",
    "plt.ylabel(\"Number of Ratings\")  # Set y-axis label\n",
    "plt.show()  # Display plot\n"
   ],
   "id": "36425dd6e7241f4",
   "outputs": [
    {
     "data": {
      "text/plain": [
       "<Figure size 640x480 with 1 Axes>"
      ],
      "image/png": "[encoded data removed]"
     },
     "metadata": {},
     "output_type": "display_data"
    }
   ],
   "execution_count": 186
  },
  {
   "metadata": {},
   "cell_type": "markdown",
   "source": [
    "## EDA: Long Tail Distribution - Ratings per Book\n",
    "# to Analyze popularity distribution of books (how many books have few/many ratings)\n",
    "# Insight: Shows the \"long tail\" phenomenon where few books get most ratings\n"
   ],
   "id": "eca4787472d4ba1"
  },
  {
   "metadata": {
    "ExecuteTime": {
     "end_time": "2025-05-08T17:14:02.669489Z",
     "start_time": "2025-05-08T17:14:02.137582Z"
    }
   },
   "cell_type": "code",
   "source": [
    "ratings_per_book = ratings_df[\"ISBN\"].value_counts().rename(\"ratings_per_book\")  # Count ratings per book\n",
    "k_values = np.unique(ratings_per_book.values[::-1])  # Get unique rating counts\n",
    "fraction_ge_k = [\n",
    "    len(ratings_per_book[ratings_per_book >= k]) / len(ratings_per_book) for k in k_values\n",
    "]  # Calculate fraction of books with ≥k ratings\n",
    "\n",
    "plt.figure(figsize=(10, 5))  # Set figure size\n",
    "plt.loglog(k_values, fraction_ge_k, marker=\"o\", linestyle=\"-\")  # Create log-log plot\n",
    "plt.title(\"Long Tail Distribution: Ratings per Book\")  # Set title\n",
    "plt.xlabel(\"Number of Ratings per Book (k)\")  # Set x-axis label\n",
    "plt.ylabel(\"Fraction of Books with ≥ k Ratings\")  # Set y-axis label\n",
    "plt.grid(which=\"both\")  # Add grid lines\n",
    "\n",
    "plt.xticks([ 1 , 2 , 4 , 6 , 8 , 10 , 100 , 1000],\n",
    "['1','2','4','6','8','10','100','1000'])  # Set x-ticks\n",
    "\n",
    "plt.yticks([ 1e-5 , 1e-4 , 1e-3 , 1e-2 ,1e-1 , 1],\n",
    "['%0.0001','%0.001','%0.01','%0.1','%10','%100']) # Set y-ticks\n",
    "\n",
    "plt.show()  # Display plot\n"
   ],
   "id": "cf1c6a38e79591eb",
   "outputs": [
    {
     "data": {
      "text/plain": [
       "<Figure size 1000x500 with 1 Axes>"
      ],
      "image/png": "[encoded data removed]"
     },
     "metadata": {},
     "output_type": "display_data"
    }
   ],
   "execution_count": 187
  },
  {
   "metadata": {},
   "cell_type": "markdown",
   "source": [
    "## EDA: Long Tail Distribution - Ratings per User\n",
    "# to Analyze user engagement distribution (how many users rate few/many books)\n",
    "# Insight: Shows if most users rate few books while few power users rate many\n"
   ],
   "id": "23867848e55afee1"
  },
  {
   "metadata": {
    "ExecuteTime": {
     "end_time": "2025-05-08T17:14:03.131928Z",
     "start_time": "2025-05-08T17:14:02.691832Z"
    }
   },
   "cell_type": "code",
   "source": [
    "ratings_per_user = ratings_df[\"User-ID\"].value_counts().rename(\"ratings_per_user\")  # Count ratings per user\n",
    "k_values_user = np.unique(ratings_per_user.values[::-1])  # Get unique rating counts\n",
    "fraction_ge_k_user = [\n",
    "    len(ratings_per_user[ratings_per_user >= k]) / len(ratings_per_user) for k in k_values_user\n",
    "]  # Calculate fraction of users with ≥k ratings\n",
    "\n",
    "plt.figure(figsize=(10, 5))  # Set figure size\n",
    "plt.loglog(k_values_user, fraction_ge_k_user, marker=\"o\", linestyle=\"-\")  # Create log-log plot\n",
    "plt.title(\"Long Tail Distribution: Ratings per User\")  # Set title\n",
    "plt.xlabel(\"Number of Ratings per User (k)\")  # Set x-axis label\n",
    "plt.ylabel(\"Fraction of Users with ≥ k Ratings\")  # Set y-axis label\n",
    "\n",
    "plt.xticks([ 1 , 2 , 4 , 6 , 8 , 10 , 100 , 1000],\n",
    "['1','2','4','6','8','10','100','1000'])  # Set x-ticks\n",
    "\n",
    "plt.yticks([ 1e-5 , 1e-4 , 1e-3 , 1e-2 ,1e-1 , 1],\n",
    "['%0.0001','%0.001','%0.01','%0.1','%10','%100']) # Set y-ticks\n",
    "\n",
    "plt.grid(which=\"both\")  # Add grid lines\n",
    "plt.show()  # Display plot\n"
   ],
   "id": "53fb9d2717d1f427",
   "outputs": [
    {
     "data": {
      "text/plain": [
       "<Figure size 1000x500 with 1 Axes>"
      ],
      "image/png": "[encoded data removed]"
     },
     "metadata": {},
     "output_type": "display_data"
    }
   ],
   "execution_count": 188
  },
  {
   "metadata": {},
   "cell_type": "markdown",
   "source": [
    "## EDA: User Avg Rating Distribution\n",
    "# to Analyze how users distribute their ratings on average\n",
    "# Insight: Shows if users tend to be generous/strict in their ratings overall\n"
   ],
   "id": "99b298a8cfdebb77"
  },
  {
   "metadata": {
    "ExecuteTime": {
     "end_time": "2025-05-08T17:14:03.390920Z",
     "start_time": "2025-05-08T17:14:03.155992Z"
    }
   },
   "cell_type": "code",
   "source": [
    "user_avg_ratings = (\n",
    "    ratings_df.groupby(\"User-ID\")[\"Book-Rating\"]\n",
    "    .mean()\n",
    "    .rename(\"avg_rating\")\n",
    ")  # Calculate mean rating per user\n",
    "user_avg_ratings = user_avg_ratings[ratings_df[\"User-ID\"].value_counts() >= 5]  # Filter users with ≥5 ratings\n",
    "\n",
    "plt.hist(user_avg_ratings, bins=100)  # Create histogram\n",
    "plt.title(\"Distribution of Users' Average Ratings\")  # Set title\n",
    "plt.xlabel(\"User's Average Rating\")  # Set x-axis label\n",
    "plt.ylabel(\"Number of Users\")  # Set y-axis label\n",
    "plt.tight_layout()  # Adjust layout\n",
    "plt.show()  # Display plot\n"
   ],
   "id": "60d5bcf1a84f0e4",
   "outputs": [
    {
     "data": {
      "text/plain": [
       "<Figure size 640x480 with 1 Axes>"
      ],
      "image/png": "[encoded data removed]"
     },
     "metadata": {},
     "output_type": "display_data"
    }
   ],
   "execution_count": 189
  },
  {
   "metadata": {},
   "cell_type": "markdown",
   "source": [
    "## Iterative Filtering – K-Core (Users & Books)\n",
    "# Purpose: Remove sparse users and items to create a denser dataset\n",
    "# Insight: Helps improve recommendation quality by focusing on meaningful interactions\n"
   ],
   "id": "27f0e3e8c203ab6f"
  },
  {
   "metadata": {
    "ExecuteTime": {
     "end_time": "2025-05-08T17:14:03.666306Z",
     "start_time": "2025-05-08T17:14:03.414259Z"
    }
   },
   "cell_type": "code",
   "source": "ratings_df = apply_k_core_filtering(ratings_df)",
   "id": "a72a30a8112869d",
   "outputs": [],
   "execution_count": 190
  },
  {
   "metadata": {},
   "cell_type": "markdown",
   "source": [
    "## Post-Filtering Stats\n",
    "# Checking statistics after k-core filtering to understand remaining data\n"
   ],
   "id": "a4bb0cf5d11774d4"
  },
  {
   "metadata": {
    "ExecuteTime": {
     "end_time": "2025-05-08T17:14:03.701064Z",
     "start_time": "2025-05-08T17:14:03.688762Z"
    }
   },
   "cell_type": "code",
   "source": [
    "print(ratings_df[\"User-ID\"].value_counts().tail())  # Show least active remaining users\n",
    "print(ratings_df[\"ISBN\"].value_counts().tail())  # Show least popular remaining books\n"
   ],
   "id": "5f32c40b2d5ad6ad",
   "outputs": [
    {
     "name": "stdout",
     "output_type": "stream",
     "text": [
      "120696    6\n",
      "120548    6\n",
      "120178    6\n",
      "238541    6\n",
      "276688    6\n",
      "Name: User-ID, dtype: int64\n",
      "0385333064    8\n",
      "0786883219    8\n",
      "0553575422    8\n",
      "0452282268    8\n",
      "0316107255    8\n",
      "Name: ISBN, dtype: int64\n"
     ]
    }
   ],
   "execution_count": 191
  },
  {
   "metadata": {},
   "cell_type": "markdown",
   "source": [
    "## Check for Duplicated (User, Book) Pairs\n",
    "# Verifying there are no duplicate user-book rating pairs (data integrity check)\n"
   ],
   "id": "e27b376ec42c808a"
  },
  {
   "metadata": {
    "ExecuteTime": {
     "end_time": "2025-05-08T17:14:03.740215Z",
     "start_time": "2025-05-08T17:14:03.722966Z"
    }
   },
   "cell_type": "code",
   "source": [
    "if True in ratings_df.duplicated(subset=[\"User-ID\", \"ISBN\"]):\n",
    "    print(\"duplicated ratings:\")\n",
    "    print(ratings_df[ratings_df.duplicated(subset=[\"User-ID\", \"ISBN\"])][\"User-ID\"].value_counts())\n",
    "else:\n",
    "    print(\"no duplicated ratings\")\n"
   ],
   "id": "10925ca63aa401d1",
   "outputs": [
    {
     "name": "stdout",
     "output_type": "stream",
     "text": [
      "no duplicated ratings\n"
     ]
    }
   ],
   "execution_count": 192
  },
  {
   "metadata": {},
   "cell_type": "markdown",
   "source": [
    "## Final Alignment of Users & Books\n",
    "# Ensuring all remaining users and books have ratings (data consistency)\n"
   ],
   "id": "8678821acf1f4d8"
  },
  {
   "metadata": {
    "ExecuteTime": {
     "end_time": "2025-05-08T17:14:03.839854Z",
     "start_time": "2025-05-08T17:14:03.762390Z"
    }
   },
   "cell_type": "code",
   "source": "books_df,users_df = align_user_book_datasets(ratings_df,books_df,users_df)",
   "id": "d182f00445530fdd",
   "outputs": [],
   "execution_count": 193
  },
  {
   "metadata": {},
   "cell_type": "markdown",
   "source": [
    "## Add Password Column\n",
    "# Initialise Password as the string 'u' followed by the user id"
   ],
   "id": "9a04ab3e58c9cef"
  },
  {
   "metadata": {
    "ExecuteTime": {
     "end_time": "2025-05-08T17:14:03.885891Z",
     "start_time": "2025-05-08T17:14:03.863567Z"
    }
   },
   "cell_type": "code",
   "source": [
    "users_df[\"User-Name\"] = \"User-\" + users_df[\"User-ID\"].astype(str)\n",
    "users_df[\"Password\"] = \"u\" + users_df[\"User-ID\"].astype(str)\n",
    "users_df = users_df[[\"User-ID\", \"User-Name\",\"Location\",\"Age\",\"Password\"]]\n",
    "users_df"
   ],
   "id": "b36daad9a798c53",
   "outputs": [
    {
     "data": {
      "text/plain": [
       "        User-ID    User-Name                      Location   Age Password\n",
       "113         114     User-114   ligonier, pennsylvania, usa  57.0     u114\n",
       "242         243     User-243   arden hills, minnesota, usa   NaN     u243\n",
       "243         244     User-244   college station, texas, usa   NaN     u244\n",
       "253         254     User-254   minneapolis, minnesota, usa  24.0     u254\n",
       "506         507     User-507          dumas, arkansas, usa   NaN     u507\n",
       "...         ...          ...                           ...   ...      ...\n",
       "278417   278418  User-278418          omaha, nebraska, usa   NaN  u278418\n",
       "278534   278535  User-278535       oshkosh, wisconsin, usa   NaN  u278535\n",
       "278581   278582  User-278582       slidell, louisiana, usa   NaN  u278582\n",
       "278632   278633  User-278633              sandy, utah, usa   NaN  u278633\n",
       "278842   278843  User-278843  pismo beach, california, usa  28.0  u278843\n",
       "\n",
       "[3422 rows x 5 columns]"
      ],
      "text/html": [
       "<div>\n",
       "<style scoped>\n",
       "    .dataframe tbody tr th:only-of-type {\n",
       "        vertical-align: middle;\n",
       "    }\n",
       "\n",
       "    .dataframe tbody tr th {\n",
       "        vertical-align: top;\n",
       "    }\n",
       "\n",
       "    .dataframe thead th {\n",
       "        text-align: right;\n",
       "    }\n",
       "</style>\n",
       "<table border=\"1\" class=\"dataframe\">\n",
       "  <thead>\n",
       "    <tr style=\"text-align: right;\">\n",
       "      <th></th>\n",
       "      <th>User-ID</th>\n",
       "      <th>User-Name</th>\n",
       "      <th>Location</th>\n",
       "      <th>Age</th>\n",
       "      <th>Password</th>\n",
       "    </tr>\n",
       "  </thead>\n",
       "  <tbody>\n",
       "    <tr>\n",
       "      <th>113</th>\n",
       "      <td>114</td>\n",
       "      <td>User-114</td>\n",
       "      <td>ligonier, pennsylvania, usa</td>\n",
       "      <td>57.0</td>\n",
       "      <td>u114</td>\n",
       "    </tr>\n",
       "    <tr>\n",
       "      <th>242</th>\n",
       "      <td>243</td>\n",
       "      <td>User-243</td>\n",
       "      <td>arden hills, minnesota, usa</td>\n",
       "      <td>NaN</td>\n",
       "      <td>u243</td>\n",
       "    </tr>\n",
       "    <tr>\n",
       "      <th>243</th>\n",
       "      <td>244</td>\n",
       "      <td>User-244</td>\n",
       "      <td>college station, texas, usa</td>\n",
       "      <td>NaN</td>\n",
       "      <td>u244</td>\n",
       "    </tr>\n",
       "    <tr>\n",
       "      <th>253</th>\n",
       "      <td>254</td>\n",
       "      <td>User-254</td>\n",
       "      <td>minneapolis, minnesota, usa</td>\n",
       "      <td>24.0</td>\n",
       "      <td>u254</td>\n",
       "    </tr>\n",
       "    <tr>\n",
       "      <th>506</th>\n",
       "      <td>507</td>\n",
       "      <td>User-507</td>\n",
       "      <td>dumas, arkansas, usa</td>\n",
       "      <td>NaN</td>\n",
       "      <td>u507</td>\n",
       "    </tr>\n",
       "    <tr>\n",
       "      <th>...</th>\n",
       "      <td>...</td>\n",
       "      <td>...</td>\n",
       "      <td>...</td>\n",
       "      <td>...</td>\n",
       "      <td>...</td>\n",
       "    </tr>\n",
       "    <tr>\n",
       "      <th>278417</th>\n",
       "      <td>278418</td>\n",
       "      <td>User-278418</td>\n",
       "      <td>omaha, nebraska, usa</td>\n",
       "      <td>NaN</td>\n",
       "      <td>u278418</td>\n",
       "    </tr>\n",
       "    <tr>\n",
       "      <th>278534</th>\n",
       "      <td>278535</td>\n",
       "      <td>User-278535</td>\n",
       "      <td>oshkosh, wisconsin, usa</td>\n",
       "      <td>NaN</td>\n",
       "      <td>u278535</td>\n",
       "    </tr>\n",
       "    <tr>\n",
       "      <th>278581</th>\n",
       "      <td>278582</td>\n",
       "      <td>User-278582</td>\n",
       "      <td>slidell, louisiana, usa</td>\n",
       "      <td>NaN</td>\n",
       "      <td>u278582</td>\n",
       "    </tr>\n",
       "    <tr>\n",
       "      <th>278632</th>\n",
       "      <td>278633</td>\n",
       "      <td>User-278633</td>\n",
       "      <td>sandy, utah, usa</td>\n",
       "      <td>NaN</td>\n",
       "      <td>u278633</td>\n",
       "    </tr>\n",
       "    <tr>\n",
       "      <th>278842</th>\n",
       "      <td>278843</td>\n",
       "      <td>User-278843</td>\n",
       "      <td>pismo beach, california, usa</td>\n",
       "      <td>28.0</td>\n",
       "      <td>u278843</td>\n",
       "    </tr>\n",
       "  </tbody>\n",
       "</table>\n",
       "<p>3422 rows × 5 columns</p>\n",
       "</div>"
      ]
     },
     "execution_count": 194,
     "metadata": {},
     "output_type": "execute_result"
    }
   ],
   "execution_count": 194
  },
  {
   "metadata": {},
   "cell_type": "markdown",
   "source": "# Creating Mappers",
   "id": "4c8480798814342a"
  },
  {
   "metadata": {
    "ExecuteTime": {
     "end_time": "2025-05-08T17:14:03.960284Z",
     "start_time": "2025-05-08T17:14:03.949019Z"
    }
   },
   "cell_type": "code",
   "source": "user_id_map, isbn_map, user_id_map_inv, isbn_map_inv = build_mappers(ratings_df)",
   "id": "2cb26c89c8c03fbd",
   "outputs": [],
   "execution_count": 195
  },
  {
   "metadata": {},
   "cell_type": "markdown",
   "source": [
    "## Final Entity Sizes\n",
    "# Checking final counts of books and users to understand dataset scale\n"
   ],
   "id": "993bcce9cd2b043f"
  },
  {
   "metadata": {
    "ExecuteTime": {
     "end_time": "2025-05-08T17:14:04.033068Z",
     "start_time": "2025-05-08T17:14:04.019948Z"
    }
   },
   "cell_type": "code",
   "source": [
    "print(len(books_df))  # Count of remaining books\n",
    "print(len(ratings_df[\"ISBN\"].unique()))  # Count of books with ratings\n",
    "print(len(users_df))  # Count of remaining users\n",
    "print(len(ratings_df[\"User-ID\"].unique()))  # Count of users with ratings\n"
   ],
   "id": "748228e27df637b4",
   "outputs": [
    {
     "name": "stdout",
     "output_type": "stream",
     "text": [
      "3040\n",
      "3040\n",
      "3422\n",
      "3422\n"
     ]
    }
   ],
   "execution_count": 196
  },
  {
   "metadata": {},
   "cell_type": "markdown",
   "source": [
    "## Final Cleaned Ratings\n",
    "# Displaying the final cleaned ratings dataframe for inspection\n"
   ],
   "id": "a26df89ce577164d"
  },
  {
   "metadata": {
    "ExecuteTime": {
     "end_time": "2025-05-08T17:14:04.098885Z",
     "start_time": "2025-05-08T17:14:04.088906Z"
    }
   },
   "cell_type": "code",
   "source": "ratings_df  # Display the final ratings dataframe",
   "id": "cfb08dcca1c8a3f",
   "outputs": [
    {
     "data": {
      "text/plain": [
       "         User-ID        ISBN  Book-Rating\n",
       "911       277157  0312979517          5.0\n",
       "917       277157  0345452550          7.0\n",
       "928       277157  0399146504          7.0\n",
       "941       277157  0399151451          7.0\n",
       "945       277157  0425183181          5.0\n",
       "...          ...         ...          ...\n",
       "1149711   276688  0553566040          6.0\n",
       "1149715   276688  0553575104          6.0\n",
       "1149738   276688  0688156134          8.0\n",
       "1149743   276688  0836218655         10.0\n",
       "1149744   276688  0836236688         10.0\n",
       "\n",
       "[55976 rows x 3 columns]"
      ],
      "text/html": [
       "<div>\n",
       "<style scoped>\n",
       "    .dataframe tbody tr th:only-of-type {\n",
       "        vertical-align: middle;\n",
       "    }\n",
       "\n",
       "    .dataframe tbody tr th {\n",
       "        vertical-align: top;\n",
       "    }\n",
       "\n",
       "    .dataframe thead th {\n",
       "        text-align: right;\n",
       "    }\n",
       "</style>\n",
       "<table border=\"1\" class=\"dataframe\">\n",
       "  <thead>\n",
       "    <tr style=\"text-align: right;\">\n",
       "      <th></th>\n",
       "      <th>User-ID</th>\n",
       "      <th>ISBN</th>\n",
       "      <th>Book-Rating</th>\n",
       "    </tr>\n",
       "  </thead>\n",
       "  <tbody>\n",
       "    <tr>\n",
       "      <th>911</th>\n",
       "      <td>277157</td>\n",
       "      <td>0312979517</td>\n",
       "      <td>5.0</td>\n",
       "    </tr>\n",
       "    <tr>\n",
       "      <th>917</th>\n",
       "      <td>277157</td>\n",
       "      <td>0345452550</td>\n",
       "      <td>7.0</td>\n",
       "    </tr>\n",
       "    <tr>\n",
       "      <th>928</th>\n",
       "      <td>277157</td>\n",
       "      <td>0399146504</td>\n",
       "      <td>7.0</td>\n",
       "    </tr>\n",
       "    <tr>\n",
       "      <th>941</th>\n",
       "      <td>277157</td>\n",
       "      <td>0399151451</td>\n",
       "      <td>7.0</td>\n",
       "    </tr>\n",
       "    <tr>\n",
       "      <th>945</th>\n",
       "      <td>277157</td>\n",
       "      <td>0425183181</td>\n",
       "      <td>5.0</td>\n",
       "    </tr>\n",
       "    <tr>\n",
       "      <th>...</th>\n",
       "      <td>...</td>\n",
       "      <td>...</td>\n",
       "      <td>...</td>\n",
       "    </tr>\n",
       "    <tr>\n",
       "      <th>1149711</th>\n",
       "      <td>276688</td>\n",
       "      <td>0553566040</td>\n",
       "      <td>6.0</td>\n",
       "    </tr>\n",
       "    <tr>\n",
       "      <th>1149715</th>\n",
       "      <td>276688</td>\n",
       "      <td>0553575104</td>\n",
       "      <td>6.0</td>\n",
       "    </tr>\n",
       "    <tr>\n",
       "      <th>1149738</th>\n",
       "      <td>276688</td>\n",
       "      <td>0688156134</td>\n",
       "      <td>8.0</td>\n",
       "    </tr>\n",
       "    <tr>\n",
       "      <th>1149743</th>\n",
       "      <td>276688</td>\n",
       "      <td>0836218655</td>\n",
       "      <td>10.0</td>\n",
       "    </tr>\n",
       "    <tr>\n",
       "      <th>1149744</th>\n",
       "      <td>276688</td>\n",
       "      <td>0836236688</td>\n",
       "      <td>10.0</td>\n",
       "    </tr>\n",
       "  </tbody>\n",
       "</table>\n",
       "<p>55976 rows × 3 columns</p>\n",
       "</div>"
      ]
     },
     "execution_count": 197,
     "metadata": {},
     "output_type": "execute_result"
    }
   ],
   "execution_count": 197
  },
  {
   "metadata": {},
   "cell_type": "markdown",
   "source": "# Save Processed Data to Files",
   "id": "c470d6dd361de9dc"
  },
  {
   "metadata": {
    "ExecuteTime": {
     "end_time": "2025-05-08T17:14:04.254041Z",
     "start_time": "2025-05-08T17:14:04.149695Z"
    }
   },
   "cell_type": "code",
   "source": [
    "ratings_df.to_csv(r\"../data/processed/ratings_cleaned.csv\",index = False)\n",
    "books_df.to_csv(r\"../data/processed/books_cleaned.csv\",index = False)\n",
    "users_df.to_csv(r\"../data/processed/users_cleaned.csv\",index = False)"
   ],
   "id": "163e644f2241e2b4",
   "outputs": [],
   "execution_count": 198
  },
  {
   "metadata": {
    "ExecuteTime": {
     "end_time": "2025-05-08T17:14:04.331504Z",
     "start_time": "2025-05-08T17:14:04.281035Z"
    }
   },
   "cell_type": "code",
   "source": [
    "user_id_map_str_keys = {str(k): int(v) for k, v in user_id_map.items()}\n",
    "user_id_map_inv_str_keys = {str(k): int(v) for k, v in user_id_map_inv.items()}\n",
    "\n",
    "mappers_to_save = {\"user_id_map\": user_id_map_str_keys,\n",
    "                   \"isbn_map\": isbn_map,\n",
    "                   \"user_id_map_inv\": user_id_map_inv_str_keys,\n",
    "                   \"isbn_map_inv\": isbn_map_inv}\n",
    "\n",
    "with open(\"../data/processed/mappers.json\", \"w\") as f:\n",
    "    json.dump(mappers_to_save, f, indent=4)"
   ],
   "id": "54071b11bee5ae94",
   "outputs": [],
   "execution_count": 199
  },
  {
   "metadata": {
    "ExecuteTime": {
     "end_time": "2025-05-08T17:14:04.358747Z",
     "start_time": "2025-05-08T17:14:04.338930Z"
    }
   },
   "cell_type": "code",
   "source": [
    "mask = books_df.loc[:,\"Book-Title\"].str.lower().str.contains(\"harry potter\")\n",
    "books_df[mask]"
   ],
   "id": "c4662d9a5054956b",
   "outputs": [
    {
     "data": {
      "text/plain": [
       "             ISBN  \\\n",
       "821    0767908473   \n",
       "2143   059035342X   \n",
       "2809   0590353403   \n",
       "3459   0439064872   \n",
       "3839   0439136350   \n",
       "5431   0439139597   \n",
       "5506   043935806X   \n",
       "79370  0439425220   \n",
       "\n",
       "                                                                   Book-Title  \\\n",
       "821    The Sorcerer's Companion: A Guide to the Magical World of Harry Potter   \n",
       "2143         Harry Potter and the Sorcerer's Stone (Harry Potter (Paperback))   \n",
       "2809                           Harry Potter and the Sorcerer's Stone (Book 1)   \n",
       "3459                         Harry Potter and the Chamber of Secrets (Book 2)   \n",
       "3839                        Harry Potter and the Prisoner of Azkaban (Book 3)   \n",
       "5431                             Harry Potter and the Goblet of Fire (Book 4)   \n",
       "5506                       Harry Potter and the Order of the Phoenix (Book 5)   \n",
       "79370                   Harry Potter and the Chamber of Secrets Postcard Book   \n",
       "\n",
       "              Book-Author Year-Of-Publication               Publisher  \\\n",
       "821    ALLAN ZOLA KRONZEK                2001                Broadway   \n",
       "2143        J. K. Rowling                1999  Arthur A. Levine Books   \n",
       "2809        J. K. Rowling                1998              Scholastic   \n",
       "3459        J. K. Rowling                2000              Scholastic   \n",
       "3839        J. K. Rowling                1999              Scholastic   \n",
       "5431        J. K. Rowling                2000              Scholastic   \n",
       "5506        J. K. Rowling                2003              Scholastic   \n",
       "79370       J. K. Rowling                2002              Scholastic   \n",
       "\n",
       "                                                        Image-URL-S  \\\n",
       "821    http://images.amazon.com/images/P/0767908473.01.THUMBZZZ.jpg   \n",
       "2143   http://images.amazon.com/images/P/059035342X.01.THUMBZZZ.jpg   \n",
       "2809   http://images.amazon.com/images/P/0590353403.01.THUMBZZZ.jpg   \n",
       "3459   http://images.amazon.com/images/P/0439064872.01.THUMBZZZ.jpg   \n",
       "3839   http://images.amazon.com/images/P/0439136350.01.THUMBZZZ.jpg   \n",
       "5431   http://images.amazon.com/images/P/0439139597.01.THUMBZZZ.jpg   \n",
       "5506   http://images.amazon.com/images/P/043935806X.01.THUMBZZZ.jpg   \n",
       "79370  http://images.amazon.com/images/P/0439425220.01.THUMBZZZ.jpg   \n",
       "\n",
       "                                                        Image-URL-M  \\\n",
       "821    http://images.amazon.com/images/P/0767908473.01.MZZZZZZZ.jpg   \n",
       "2143   http://images.amazon.com/images/P/059035342X.01.MZZZZZZZ.jpg   \n",
       "2809   http://images.amazon.com/images/P/0590353403.01.MZZZZZZZ.jpg   \n",
       "3459   http://images.amazon.com/images/P/0439064872.01.MZZZZZZZ.jpg   \n",
       "3839   http://images.amazon.com/images/P/0439136350.01.MZZZZZZZ.jpg   \n",
       "5431   http://images.amazon.com/images/P/0439139597.01.MZZZZZZZ.jpg   \n",
       "5506   http://images.amazon.com/images/P/043935806X.01.MZZZZZZZ.jpg   \n",
       "79370  http://images.amazon.com/images/P/0439425220.01.MZZZZZZZ.jpg   \n",
       "\n",
       "                                                        Image-URL-L  \n",
       "821    http://images.amazon.com/images/P/0767908473.01.LZZZZZZZ.jpg  \n",
       "2143   http://images.amazon.com/images/P/059035342X.01.LZZZZZZZ.jpg  \n",
       "2809   http://images.amazon.com/images/P/0590353403.01.LZZZZZZZ.jpg  \n",
       "3459   http://images.amazon.com/images/P/0439064872.01.LZZZZZZZ.jpg  \n",
       "3839   http://images.amazon.com/images/P/0439136350.01.LZZZZZZZ.jpg  \n",
       "5431   http://images.amazon.com/images/P/0439139597.01.LZZZZZZZ.jpg  \n",
       "5506   http://images.amazon.com/images/P/043935806X.01.LZZZZZZZ.jpg  \n",
       "79370  http://images.amazon.com/images/P/0439425220.01.LZZZZZZZ.jpg  "
      ],
      "text/html": [
       "<div>\n",
       "<style scoped>\n",
       "    .dataframe tbody tr th:only-of-type {\n",
       "        vertical-align: middle;\n",
       "    }\n",
       "\n",
       "    .dataframe tbody tr th {\n",
       "        vertical-align: top;\n",
       "    }\n",
       "\n",
       "    .dataframe thead th {\n",
       "        text-align: right;\n",
       "    }\n",
       "</style>\n",
       "<table border=\"1\" class=\"dataframe\">\n",
       "  <thead>\n",
       "    <tr style=\"text-align: right;\">\n",
       "      <th></th>\n",
       "      <th>ISBN</th>\n",
       "      <th>Book-Title</th>\n",
       "      <th>Book-Author</th>\n",
       "      <th>Year-Of-Publication</th>\n",
       "      <th>Publisher</th>\n",
       "      <th>Image-URL-S</th>\n",
       "      <th>Image-URL-M</th>\n",
       "      <th>Image-URL-L</th>\n",
       "    </tr>\n",
       "  </thead>\n",
       "  <tbody>\n",
       "    <tr>\n",
       "      <th>821</th>\n",
       "      <td>0767908473</td>\n",
       "      <td>The Sorcerer's Companion: A Guide to the Magical World of Harry Potter</td>\n",
       "      <td>ALLAN ZOLA KRONZEK</td>\n",
       "      <td>2001</td>\n",
       "      <td>Broadway</td>\n",
       "      <td>http://images.amazon.com/images/P/0767908473.01.THUMBZZZ.jpg</td>\n",
       "      <td>http://images.amazon.com/images/P/0767908473.01.MZZZZZZZ.jpg</td>\n",
       "      <td>http://images.amazon.com/images/P/0767908473.01.LZZZZZZZ.jpg</td>\n",
       "    </tr>\n",
       "    <tr>\n",
       "      <th>2143</th>\n",
       "      <td>059035342X</td>\n",
       "      <td>Harry Potter and the Sorcerer's Stone (Harry Potter (Paperback))</td>\n",
       "      <td>J. K. Rowling</td>\n",
       "      <td>1999</td>\n",
       "      <td>Arthur A. Levine Books</td>\n",
       "      <td>http://images.amazon.com/images/P/059035342X.01.THUMBZZZ.jpg</td>\n",
       "      <td>http://images.amazon.com/images/P/059035342X.01.MZZZZZZZ.jpg</td>\n",
       "      <td>http://images.amazon.com/images/P/059035342X.01.LZZZZZZZ.jpg</td>\n",
       "    </tr>\n",
       "    <tr>\n",
       "      <th>2809</th>\n",
       "      <td>0590353403</td>\n",
       "      <td>Harry Potter and the Sorcerer's Stone (Book 1)</td>\n",
       "      <td>J. K. Rowling</td>\n",
       "      <td>1998</td>\n",
       "      <td>Scholastic</td>\n",
       "      <td>http://images.amazon.com/images/P/0590353403.01.THUMBZZZ.jpg</td>\n",
       "      <td>http://images.amazon.com/images/P/0590353403.01.MZZZZZZZ.jpg</td>\n",
       "      <td>http://images.amazon.com/images/P/0590353403.01.LZZZZZZZ.jpg</td>\n",
       "    </tr>\n",
       "    <tr>\n",
       "      <th>3459</th>\n",
       "      <td>0439064872</td>\n",
       "      <td>Harry Potter and the Chamber of Secrets (Book 2)</td>\n",
       "      <td>J. K. Rowling</td>\n",
       "      <td>2000</td>\n",
       "      <td>Scholastic</td>\n",
       "      <td>http://images.amazon.com/images/P/0439064872.01.THUMBZZZ.jpg</td>\n",
       "      <td>http://images.amazon.com/images/P/0439064872.01.MZZZZZZZ.jpg</td>\n",
       "      <td>http://images.amazon.com/images/P/0439064872.01.LZZZZZZZ.jpg</td>\n",
       "    </tr>\n",
       "    <tr>\n",
       "      <th>3839</th>\n",
       "      <td>0439136350</td>\n",
       "      <td>Harry Potter and the Prisoner of Azkaban (Book 3)</td>\n",
       "      <td>J. K. Rowling</td>\n",
       "      <td>1999</td>\n",
       "      <td>Scholastic</td>\n",
       "      <td>http://images.amazon.com/images/P/0439136350.01.THUMBZZZ.jpg</td>\n",
       "      <td>http://images.amazon.com/images/P/0439136350.01.MZZZZZZZ.jpg</td>\n",
       "      <td>http://images.amazon.com/images/P/0439136350.01.LZZZZZZZ.jpg</td>\n",
       "    </tr>\n",
       "    <tr>\n",
       "      <th>5431</th>\n",
       "      <td>0439139597</td>\n",
       "      <td>Harry Potter and the Goblet of Fire (Book 4)</td>\n",
       "      <td>J. K. Rowling</td>\n",
       "      <td>2000</td>\n",
       "      <td>Scholastic</td>\n",
       "      <td>http://images.amazon.com/images/P/0439139597.01.THUMBZZZ.jpg</td>\n",
       "      <td>http://images.amazon.com/images/P/0439139597.01.MZZZZZZZ.jpg</td>\n",
       "      <td>http://images.amazon.com/images/P/0439139597.01.LZZZZZZZ.jpg</td>\n",
       "    </tr>\n",
       "    <tr>\n",
       "      <th>5506</th>\n",
       "      <td>043935806X</td>\n",
       "      <td>Harry Potter and the Order of the Phoenix (Book 5)</td>\n",
       "      <td>J. K. Rowling</td>\n",
       "      <td>2003</td>\n",
       "      <td>Scholastic</td>\n",
       "      <td>http://images.amazon.com/images/P/043935806X.01.THUMBZZZ.jpg</td>\n",
       "      <td>http://images.amazon.com/images/P/043935806X.01.MZZZZZZZ.jpg</td>\n",
       "      <td>http://images.amazon.com/images/P/043935806X.01.LZZZZZZZ.jpg</td>\n",
       "    </tr>\n",
       "    <tr>\n",
       "      <th>79370</th>\n",
       "      <td>0439425220</td>\n",
       "      <td>Harry Potter and the Chamber of Secrets Postcard Book</td>\n",
       "      <td>J. K. Rowling</td>\n",
       "      <td>2002</td>\n",
       "      <td>Scholastic</td>\n",
       "      <td>http://images.amazon.com/images/P/0439425220.01.THUMBZZZ.jpg</td>\n",
       "      <td>http://images.amazon.com/images/P/0439425220.01.MZZZZZZZ.jpg</td>\n",
       "      <td>http://images.amazon.com/images/P/0439425220.01.LZZZZZZZ.jpg</td>\n",
       "    </tr>\n",
       "  </tbody>\n",
       "</table>\n",
       "</div>"
      ]
     },
     "execution_count": 200,
     "metadata": {},
     "output_type": "execute_result"
    }
   ],
   "execution_count": 200
  },
  {
   "metadata": {
    "ExecuteTime": {
     "end_time": "2025-05-08T17:14:06.613200Z",
     "start_time": "2025-05-08T17:14:04.420936Z"
    }
   },
   "cell_type": "code",
   "source": "pd.DataFrame([i for i in ratings_df.groupby(\"User-ID\")['ISBN']])",
   "id": "fd887fec06ec0fd0",
   "outputs": [
    {
     "data": {
      "text/plain": [
       "           0  \\\n",
       "0        114   \n",
       "1        243   \n",
       "2        244   \n",
       "3        254   \n",
       "4        507   \n",
       "...      ...   \n",
       "3417  278418   \n",
       "3418  278535   \n",
       "3419  278582   \n",
       "3420  278633   \n",
       "3421  278843   \n",
       "\n",
       "                                                                                                                                                                                                                                                                                                                                                                                                      1  \n",
       "0                                                                                                                                                                                                                                                           9690    0446608653\n",
       "9691    0446612545\n",
       "9692    0446612618\n",
       "9693    0451208080\n",
       "9694    0553584383\n",
       "9695    0671027360\n",
       "Name: ISBN, dtype: object  \n",
       "1                                                                                                                                                                     9955     0060915544\n",
       "9956     0060977493\n",
       "9962     0316601950\n",
       "9966     0316776963\n",
       "9967     0316899984\n",
       "9976     0375400117\n",
       "10001    044023722X\n",
       "10009    0446606383\n",
       "10012    0449006522\n",
       "10035    155874262X\n",
       "Name: ISBN, dtype: object  \n",
       "2                                                                                                                                                                                                                                 10036    0060977493\n",
       "10037    0060987103\n",
       "10038    0151008116\n",
       "10040    0525947647\n",
       "10041    0804111359\n",
       "10042    155874262X\n",
       "10043    1558744150\n",
       "Name: ISBN, dtype: object  \n",
       "3     10057    0060934700\n",
       "10071    0064471047\n",
       "10073    0066238501\n",
       "10084    0142001740\n",
       "10132    0373226144\n",
       "10186    0380789035\n",
       "10190    0380973650\n",
       "10202    0399146431\n",
       "10209    0439064872\n",
       "10210    0439136350\n",
       "10212    0439139597\n",
       "10243    0451167317\n",
       "10248    0451409256\n",
       "10251    0451524934\n",
       "10253    0451526341\n",
       "10279    0590353403\n",
       "10284    0618002219\n",
       "10290    0671021001\n",
       "Name: ISBN, dtype: object  \n",
       "4                                                                 10792    0020427859\n",
       "10803    0142001740\n",
       "10847    0451184718\n",
       "10856    0553564528\n",
       "10859    0553575538\n",
       "10860    0553576801\n",
       "10862    055357695X\n",
       "10867    0553583441\n",
       "10868    0553583468\n",
       "10885    0689710879\n",
       "10886    0689710887\n",
       "10887    0689710895\n",
       "10888    0689711522\n",
       "10890    0743260244\n",
       "10910    0821772953\n",
       "Name: ISBN, dtype: object  \n",
       "...                                                                                                                                                                                                                                                                                                                                                                                                 ...  \n",
       "3417                                                                                                                                                                            5022    0345369335\n",
       "5985    0394800168\n",
       "5990    0394820371\n",
       "6155    042513525X\n",
       "6186    042518630X\n",
       "6331    0440184622\n",
       "6349    0440207622\n",
       "6747    0515130389\n",
       "6749    0515131229\n",
       "6911    0553297988\n",
       "Name: ISBN, dtype: object  \n",
       "3418                                                                                                                                                                            8980    0061094129\n",
       "8995    0425182878\n",
       "8998    0440221595\n",
       "9002    0446605484\n",
       "9003    0446610038\n",
       "9004    0446611212\n",
       "9005    0449003787\n",
       "9007    0449219461\n",
       "9008    0553213180\n",
       "9009    0553269216\n",
       "Name: ISBN, dtype: object  \n",
       "3419                                                                                                                   9131    0312983298\n",
       "9132    0312983867\n",
       "9135    0312990456\n",
       "9136    0312991460\n",
       "9138    0345350499\n",
       "9141    0425163717\n",
       "9144    0425191583\n",
       "9147    0441478123\n",
       "9148    0449003183\n",
       "9151    0449221512\n",
       "9153    0451202503\n",
       "9161    0671001795\n",
       "9170    1400034779\n",
       "Name: ISBN, dtype: object  \n",
       "3420                                       9197    0060987561\n",
       "9198    0140244824\n",
       "9200    0140296298\n",
       "9202    0142000205\n",
       "9204    0316096199\n",
       "9205    0316666343\n",
       "9206    0316899984\n",
       "9210    0375703063\n",
       "9227    0449907481\n",
       "9228    0451163524\n",
       "9235    0515131083\n",
       "9240    0553278355\n",
       "9246    0671038184\n",
       "9253    0684814994\n",
       "9256    0688162827\n",
       "9257    0688170528\n",
       "9258    0743225082\n",
       "Name: ISBN, dtype: object  \n",
       "3421                                                                                                                                                                            9457    0060173289\n",
       "9458    0060517794\n",
       "9465    0142000205\n",
       "9477    0399146431\n",
       "9480    0440211263\n",
       "9485    0553274503\n",
       "9489    059035342X\n",
       "9495    0679412956\n",
       "9503    0767902890\n",
       "9504    0786881852\n",
       "Name: ISBN, dtype: object  \n",
       "\n",
       "[3422 rows x 2 columns]"
      ],
      "text/html": [
       "<div>\n",
       "<style scoped>\n",
       "    .dataframe tbody tr th:only-of-type {\n",
       "        vertical-align: middle;\n",
       "    }\n",
       "\n",
       "    .dataframe tbody tr th {\n",
       "        vertical-align: top;\n",
       "    }\n",
       "\n",
       "    .dataframe thead th {\n",
       "        text-align: right;\n",
       "    }\n",
       "</style>\n",
       "<table border=\"1\" class=\"dataframe\">\n",
       "  <thead>\n",
       "    <tr style=\"text-align: right;\">\n",
       "      <th></th>\n",
       "      <th>0</th>\n",
       "      <th>1</th>\n",
       "    </tr>\n",
       "  </thead>\n",
       "  <tbody>\n",
       "    <tr>\n",
       "      <th>0</th>\n",
       "      <td>114</td>\n",
       "      <td>9690    0446608653\n",
       "9691    0446612545\n",
       "9692    0446612618\n",
       "9693    0451208080\n",
       "9694    0553584383\n",
       "9695    0671027360\n",
       "Name: ISBN, dtype: object</td>\n",
       "    </tr>\n",
       "    <tr>\n",
       "      <th>1</th>\n",
       "      <td>243</td>\n",
       "      <td>9955     0060915544\n",
       "9956     0060977493\n",
       "9962     0316601950\n",
       "9966     0316776963\n",
       "9967     0316899984\n",
       "9976     0375400117\n",
       "10001    044023722X\n",
       "10009    0446606383\n",
       "10012    0449006522\n",
       "10035    155874262X\n",
       "Name: ISBN, dtype: object</td>\n",
       "    </tr>\n",
       "    <tr>\n",
       "      <th>2</th>\n",
       "      <td>244</td>\n",
       "      <td>10036    0060977493\n",
       "10037    0060987103\n",
       "10038    0151008116\n",
       "10040    0525947647\n",
       "10041    0804111359\n",
       "10042    155874262X\n",
       "10043    1558744150\n",
       "Name: ISBN, dtype: object</td>\n",
       "    </tr>\n",
       "    <tr>\n",
       "      <th>3</th>\n",
       "      <td>254</td>\n",
       "      <td>10057    0060934700\n",
       "10071    0064471047\n",
       "10073    0066238501\n",
       "10084    0142001740\n",
       "10132    0373226144\n",
       "10186    0380789035\n",
       "10190    0380973650\n",
       "10202    0399146431\n",
       "10209    0439064872\n",
       "10210    0439136350\n",
       "10212    0439139597\n",
       "10243    0451167317\n",
       "10248    0451409256\n",
       "10251    0451524934\n",
       "10253    0451526341\n",
       "10279    0590353403\n",
       "10284    0618002219\n",
       "10290    0671021001\n",
       "Name: ISBN, dtype: object</td>\n",
       "    </tr>\n",
       "    <tr>\n",
       "      <th>4</th>\n",
       "      <td>507</td>\n",
       "      <td>10792    0020427859\n",
       "10803    0142001740\n",
       "10847    0451184718\n",
       "10856    0553564528\n",
       "10859    0553575538\n",
       "10860    0553576801\n",
       "10862    055357695X\n",
       "10867    0553583441\n",
       "10868    0553583468\n",
       "10885    0689710879\n",
       "10886    0689710887\n",
       "10887    0689710895\n",
       "10888    0689711522\n",
       "10890    0743260244\n",
       "10910    0821772953\n",
       "Name: ISBN, dtype: object</td>\n",
       "    </tr>\n",
       "    <tr>\n",
       "      <th>...</th>\n",
       "      <td>...</td>\n",
       "      <td>...</td>\n",
       "    </tr>\n",
       "    <tr>\n",
       "      <th>3417</th>\n",
       "      <td>278418</td>\n",
       "      <td>5022    0345369335\n",
       "5985    0394800168\n",
       "5990    0394820371\n",
       "6155    042513525X\n",
       "6186    042518630X\n",
       "6331    0440184622\n",
       "6349    0440207622\n",
       "6747    0515130389\n",
       "6749    0515131229\n",
       "6911    0553297988\n",
       "Name: ISBN, dtype: object</td>\n",
       "    </tr>\n",
       "    <tr>\n",
       "      <th>3418</th>\n",
       "      <td>278535</td>\n",
       "      <td>8980    0061094129\n",
       "8995    0425182878\n",
       "8998    0440221595\n",
       "9002    0446605484\n",
       "9003    0446610038\n",
       "9004    0446611212\n",
       "9005    0449003787\n",
       "9007    0449219461\n",
       "9008    0553213180\n",
       "9009    0553269216\n",
       "Name: ISBN, dtype: object</td>\n",
       "    </tr>\n",
       "    <tr>\n",
       "      <th>3419</th>\n",
       "      <td>278582</td>\n",
       "      <td>9131    0312983298\n",
       "9132    0312983867\n",
       "9135    0312990456\n",
       "9136    0312991460\n",
       "9138    0345350499\n",
       "9141    0425163717\n",
       "9144    0425191583\n",
       "9147    0441478123\n",
       "9148    0449003183\n",
       "9151    0449221512\n",
       "9153    0451202503\n",
       "9161    0671001795\n",
       "9170    1400034779\n",
       "Name: ISBN, dtype: object</td>\n",
       "    </tr>\n",
       "    <tr>\n",
       "      <th>3420</th>\n",
       "      <td>278633</td>\n",
       "      <td>9197    0060987561\n",
       "9198    0140244824\n",
       "9200    0140296298\n",
       "9202    0142000205\n",
       "9204    0316096199\n",
       "9205    0316666343\n",
       "9206    0316899984\n",
       "9210    0375703063\n",
       "9227    0449907481\n",
       "9228    0451163524\n",
       "9235    0515131083\n",
       "9240    0553278355\n",
       "9246    0671038184\n",
       "9253    0684814994\n",
       "9256    0688162827\n",
       "9257    0688170528\n",
       "9258    0743225082\n",
       "Name: ISBN, dtype: object</td>\n",
       "    </tr>\n",
       "    <tr>\n",
       "      <th>3421</th>\n",
       "      <td>278843</td>\n",
       "      <td>9457    0060173289\n",
       "9458    0060517794\n",
       "9465    0142000205\n",
       "9477    0399146431\n",
       "9480    0440211263\n",
       "9485    0553274503\n",
       "9489    059035342X\n",
       "9495    0679412956\n",
       "9503    0767902890\n",
       "9504    0786881852\n",
       "Name: ISBN, dtype: object</td>\n",
       "    </tr>\n",
       "  </tbody>\n",
       "</table>\n",
       "<p>3422 rows × 2 columns</p>\n",
       "</div>"
      ]
     },
     "execution_count": 201,
     "metadata": {},
     "output_type": "execute_result"
    }
   ],
   "execution_count": 201
  },
  {
   "metadata": {
    "ExecuteTime": {
     "end_time": "2025-05-08T17:14:06.686338Z",
     "start_time": "2025-05-08T17:14:06.675130Z"
    }
   },
   "cell_type": "code",
   "source": "books_df[books_df[\"ISBN\"] == \"0439064872\"]",
   "id": "4bae70417e15ad4c",
   "outputs": [
    {
     "data": {
      "text/plain": [
       "            ISBN                                        Book-Title  \\\n",
       "3459  0439064872  Harry Potter and the Chamber of Secrets (Book 2)   \n",
       "\n",
       "        Book-Author Year-Of-Publication   Publisher  \\\n",
       "3459  J. K. Rowling                2000  Scholastic   \n",
       "\n",
       "                                                       Image-URL-S  \\\n",
       "3459  http://images.amazon.com/images/P/0439064872.01.THUMBZZZ.jpg   \n",
       "\n",
       "                                                       Image-URL-M  \\\n",
       "3459  http://images.amazon.com/images/P/0439064872.01.MZZZZZZZ.jpg   \n",
       "\n",
       "                                                       Image-URL-L  \n",
       "3459  http://images.amazon.com/images/P/0439064872.01.LZZZZZZZ.jpg  "
      ],
      "text/html": [
       "<div>\n",
       "<style scoped>\n",
       "    .dataframe tbody tr th:only-of-type {\n",
       "        vertical-align: middle;\n",
       "    }\n",
       "\n",
       "    .dataframe tbody tr th {\n",
       "        vertical-align: top;\n",
       "    }\n",
       "\n",
       "    .dataframe thead th {\n",
       "        text-align: right;\n",
       "    }\n",
       "</style>\n",
       "<table border=\"1\" class=\"dataframe\">\n",
       "  <thead>\n",
       "    <tr style=\"text-align: right;\">\n",
       "      <th></th>\n",
       "      <th>ISBN</th>\n",
       "      <th>Book-Title</th>\n",
       "      <th>Book-Author</th>\n",
       "      <th>Year-Of-Publication</th>\n",
       "      <th>Publisher</th>\n",
       "      <th>Image-URL-S</th>\n",
       "      <th>Image-URL-M</th>\n",
       "      <th>Image-URL-L</th>\n",
       "    </tr>\n",
       "  </thead>\n",
       "  <tbody>\n",
       "    <tr>\n",
       "      <th>3459</th>\n",
       "      <td>0439064872</td>\n",
       "      <td>Harry Potter and the Chamber of Secrets (Book 2)</td>\n",
       "      <td>J. K. Rowling</td>\n",
       "      <td>2000</td>\n",
       "      <td>Scholastic</td>\n",
       "      <td>http://images.amazon.com/images/P/0439064872.01.THUMBZZZ.jpg</td>\n",
       "      <td>http://images.amazon.com/images/P/0439064872.01.MZZZZZZZ.jpg</td>\n",
       "      <td>http://images.amazon.com/images/P/0439064872.01.LZZZZZZZ.jpg</td>\n",
       "    </tr>\n",
       "  </tbody>\n",
       "</table>\n",
       "</div>"
      ]
     },
     "execution_count": 202,
     "metadata": {},
     "output_type": "execute_result"
    }
   ],
   "execution_count": 202
  },
  {
   "metadata": {
    "ExecuteTime": {
     "end_time": "2025-05-08T17:14:06.779314Z",
     "start_time": "2025-05-08T17:14:06.770631Z"
    }
   },
   "cell_type": "code",
   "source": "ratings_df[ratings_df[\"User-ID\"] == 274380]",
   "id": "f33017638e334326",
   "outputs": [
    {
     "data": {
      "text/plain": [
       "         User-ID        ISBN  Book-Rating\n",
       "1142334   274380  0060928336          8.0\n",
       "1142338   274380  0380002450          7.0\n",
       "1142344   274380  0451523415          9.0\n",
       "1142346   274380  0553272535          9.0\n",
       "1142347   274380  059035342X          9.0\n",
       "1142349   274380  0671617028          8.0\n",
       "1142351   274380  0743412028          7.0\n",
       "1142352   274380  0804106304          8.0"
      ],
      "text/html": [
       "<div>\n",
       "<style scoped>\n",
       "    .dataframe tbody tr th:only-of-type {\n",
       "        vertical-align: middle;\n",
       "    }\n",
       "\n",
       "    .dataframe tbody tr th {\n",
       "        vertical-align: top;\n",
       "    }\n",
       "\n",
       "    .dataframe thead th {\n",
       "        text-align: right;\n",
       "    }\n",
       "</style>\n",
       "<table border=\"1\" class=\"dataframe\">\n",
       "  <thead>\n",
       "    <tr style=\"text-align: right;\">\n",
       "      <th></th>\n",
       "      <th>User-ID</th>\n",
       "      <th>ISBN</th>\n",
       "      <th>Book-Rating</th>\n",
       "    </tr>\n",
       "  </thead>\n",
       "  <tbody>\n",
       "    <tr>\n",
       "      <th>1142334</th>\n",
       "      <td>274380</td>\n",
       "      <td>0060928336</td>\n",
       "      <td>8.0</td>\n",
       "    </tr>\n",
       "    <tr>\n",
       "      <th>1142338</th>\n",
       "      <td>274380</td>\n",
       "      <td>0380002450</td>\n",
       "      <td>7.0</td>\n",
       "    </tr>\n",
       "    <tr>\n",
       "      <th>1142344</th>\n",
       "      <td>274380</td>\n",
       "      <td>0451523415</td>\n",
       "      <td>9.0</td>\n",
       "    </tr>\n",
       "    <tr>\n",
       "      <th>1142346</th>\n",
       "      <td>274380</td>\n",
       "      <td>0553272535</td>\n",
       "      <td>9.0</td>\n",
       "    </tr>\n",
       "    <tr>\n",
       "      <th>1142347</th>\n",
       "      <td>274380</td>\n",
       "      <td>059035342X</td>\n",
       "      <td>9.0</td>\n",
       "    </tr>\n",
       "    <tr>\n",
       "      <th>1142349</th>\n",
       "      <td>274380</td>\n",
       "      <td>0671617028</td>\n",
       "      <td>8.0</td>\n",
       "    </tr>\n",
       "    <tr>\n",
       "      <th>1142351</th>\n",
       "      <td>274380</td>\n",
       "      <td>0743412028</td>\n",
       "      <td>7.0</td>\n",
       "    </tr>\n",
       "    <tr>\n",
       "      <th>1142352</th>\n",
       "      <td>274380</td>\n",
       "      <td>0804106304</td>\n",
       "      <td>8.0</td>\n",
       "    </tr>\n",
       "  </tbody>\n",
       "</table>\n",
       "</div>"
      ]
     },
     "execution_count": 203,
     "metadata": {},
     "output_type": "execute_result"
    }
   ],
   "execution_count": 203
  },
  {
   "metadata": {
    "ExecuteTime": {
     "end_time": "2025-05-08T17:14:07.221629Z",
     "start_time": "2025-05-08T17:14:06.854584Z"
    }
   },
   "cell_type": "code",
   "source": "114 in ratings_df.groupby(\"User-ID\")[\"ISBN\"].unique() and '0446608653' in ratings_df.groupby(\"User-ID\")[\"ISBN\"].unique().loc[114]",
   "id": "95850eff163c9b12",
   "outputs": [
    {
     "data": {
      "text/plain": [
       "True"
      ]
     },
     "execution_count": 204,
     "metadata": {},
     "output_type": "execute_result"
    }
   ],
   "execution_count": 204
  },
  {
   "metadata": {
    "ExecuteTime": {
     "end_time": "2025-05-08T17:14:07.515194Z",
     "start_time": "2025-05-08T17:14:07.274607Z"
    }
   },
   "cell_type": "code",
   "source": "ratings_df.groupby(\"User-ID\")[\"ISBN\"].unique()",
   "id": "dbe78927ea4e8263",
   "outputs": [
    {
     "data": {
      "text/plain": [
       "User-ID\n",
       "114                                                                                                                                                       [0446608653, 0446612545, 0446612618, 0451208080, 0553584383, 0671027360]\n",
       "243                                                                                                       [0060915544, 0060977493, 0316601950, 0316776963, 0316899984, 0375400117, 044023722X, 0446606383, 0449006522, 155874262X]\n",
       "244                                                                                                                                           [0060977493, 0060987103, 0151008116, 0525947647, 0804111359, 155874262X, 1558744150]\n",
       "254       [0060934700, 0064471047, 0066238501, 0142001740, 0373226144, 0380789035, 0380973650, 0399146431, 0439064872, 0439136350, 0439139597, 0451167317, 0451409256, 0451524934, 0451526341, 0590353403, 0618002219, 0671021001]\n",
       "507                                           [0020427859, 0142001740, 0451184718, 0553564528, 0553575538, 0553576801, 055357695X, 0553583441, 0553583468, 0689710879, 0689710887, 0689710895, 0689711522, 0743260244, 0821772953]\n",
       "                                                                                                                    ...                                                                                                           \n",
       "278418                                                                                                    [0345369335, 0394800168, 0394820371, 042513525X, 042518630X, 0440184622, 0440207622, 0515130389, 0515131229, 0553297988]\n",
       "278535                                                                                                    [0061094129, 0425182878, 0440221595, 0446605484, 0446610038, 0446611212, 0449003787, 0449219461, 0553213180, 0553269216]\n",
       "278582                                                                [0312983298, 0312983867, 0312990456, 0312991460, 0345350499, 0425163717, 0425191583, 0441478123, 0449003183, 0449221512, 0451202503, 0671001795, 1400034779]\n",
       "278633                [0060987561, 0140244824, 0140296298, 0142000205, 0316096199, 0316666343, 0316899984, 0375703063, 0449907481, 0451163524, 0515131083, 0553278355, 0671038184, 0684814994, 0688162827, 0688170528, 0743225082]\n",
       "278843                                                                                                    [0060173289, 0060517794, 0142000205, 0399146431, 0440211263, 0553274503, 059035342X, 0679412956, 0767902890, 0786881852]\n",
       "Name: ISBN, Length: 3422, dtype: object"
      ]
     },
     "execution_count": 205,
     "metadata": {},
     "output_type": "execute_result"
    }
   ],
   "execution_count": 205
  },
  {
   "metadata": {
    "ExecuteTime": {
     "end_time": "2025-05-08T17:14:07.562217Z",
     "start_time": "2025-05-08T17:14:07.559401Z"
    }
   },
   "cell_type": "code",
   "source": "",
   "id": "ac572fceb4f7399d",
   "outputs": [],
   "execution_count": null
  }
 ],
 "metadata": {
  "kernelspec": {
   "display_name": "Python 3",
   "language": "python",
   "name": "python3"
  },
  "language_info": {
   "codemirror_mode": {
    "name": "ipython",
    "version": 2
   },
   "file_extension": ".py",
   "mimetype": "text/x-python",
   "name": "python",
   "nbconvert_exporter": "python",
   "pygments_lexer": "ipython2",
   "version": "2.7.6"
  }
 },
 "nbformat": 4,
 "nbformat_minor": 5
}
